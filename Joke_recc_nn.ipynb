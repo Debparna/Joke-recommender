{
 "cells": [
  {
   "cell_type": "code",
   "execution_count": 2,
   "metadata": {},
   "outputs": [],
   "source": [
    "import pandas as pd \n",
    "import matplotlib.pyplot as plt \n",
    "import numpy as np\n",
    "import keras as k\n",
    "import sklearn\n",
    "from sklearn.model_selection import train_test_split\n",
    "from keras.layers import Embedding, Reshape, merge\n",
    "from keras import backend\n",
    "\n",
    "from keras.models import Sequential\n",
    "import numba\n",
    "from numba import jit, cuda\n",
    "import keras\n",
    "from IPython.display import SVG\n",
    "from keras.optimizers import Adam\n",
    "from keras.utils.vis_utils import model_to_dot\n",
    "\n"
   ]
  },
  {
   "cell_type": "code",
   "execution_count": 3,
   "metadata": {},
   "outputs": [],
   "source": [
    "#Load dataset\n",
    "df = pd.read_csv(\"UserRatings1.csv\")"
   ]
  },
  {
   "cell_type": "code",
   "execution_count": 4,
   "metadata": {},
   "outputs": [
    {
     "name": "stdout",
     "output_type": "stream",
     "text": [
      "2.2.4\n"
     ]
    }
   ],
   "source": [
    "df.head()\n",
    "print(k.__version__)\n"
   ]
  },
  {
   "cell_type": "code",
   "execution_count": 5,
   "metadata": {},
   "outputs": [
    {
     "name": "stdout",
     "output_type": "stream",
     "text": [
      "1.12.0\r\n"
     ]
    }
   ],
   "source": [
    "!python3 -c 'import tensorflow as tf; print(tf.__version__)'"
   ]
  },
  {
   "cell_type": "code",
   "execution_count": null,
   "metadata": {},
   "outputs": [],
   "source": []
  },
  {
   "cell_type": "code",
   "execution_count": 6,
   "metadata": {},
   "outputs": [],
   "source": [
    "df = df.values"
   ]
  },
  {
   "cell_type": "code",
   "execution_count": 7,
   "metadata": {},
   "outputs": [],
   "source": [
    "#Prepare data in JokeId, User, Rating format\n",
    "@jit\n",
    "def prepare_data(matrix_data):\n",
    "    m = matrix_data.shape[0]  # Get number of Jokes\n",
    "    n = matrix_data.shape[1]  # Get number of Users\n",
    "    jokeids = np.reshape(matrix_data[:,0],[m,1])  # Get joke id in column format\n",
    "    ones = np.ones((m,1))    #Initialize Ones ( Will be used later)\n",
    "    data = np.ones((1,3))  # Initialize a temporary matrix\n",
    "    for i in range(1,n):  # Loop through users\n",
    "        user = i * ones  # Get user column\n",
    "        ratings = np.reshape(matrix_data[:,i] , [m,1])  #Get ratings for the user\n",
    "        temp = np.concatenate((user, jokeids,ratings), axis =1)   # Concatenate User, Jokeid and Ratings\n",
    "        data = np.concatenate((data,temp))  # Append to data matrix\n",
    "    data = np.delete(data,0,0)   # Remove first row of ones\n",
    "    return data\n",
    "    \n",
    "        \n",
    "    \n",
    "    "
   ]
  },
  {
   "cell_type": "code",
   "execution_count": 8,
   "metadata": {},
   "outputs": [],
   "source": [
    "data = prepare_data(df)"
   ]
  },
  {
   "cell_type": "code",
   "execution_count": 9,
   "metadata": {},
   "outputs": [],
   "source": [
    "temp = np.copy(data)"
   ]
  },
  {
   "cell_type": "code",
   "execution_count": 10,
   "metadata": {},
   "outputs": [],
   "source": [
    "temp = temp[~np.isnan(temp).any(axis=1)]  # Clean up data by removing rows with nan values"
   ]
  },
  {
   "cell_type": "code",
   "execution_count": 11,
   "metadata": {},
   "outputs": [],
   "source": [
    "np.random.shuffle(temp)    # Shuffle data\n"
   ]
  },
  {
   "cell_type": "code",
   "execution_count": 92,
   "metadata": {},
   "outputs": [],
   "source": [
    "#split into train test data\n",
    "X = temp[:,0:2]   #Get user and joke id\n",
    "Y = temp[:,2]   # Get Ratings\n",
    "m1 = Y.shape[0]\n",
    "Y = np.reshape(Y,[m1,1])\n",
    "X_train, X_test, Y_train, Y_test = train_test_split(X,Y, test_size = 0.2, shuffle = True)    #Split Data\n",
    "Users = X_train[:,0]\n",
    "Jokes = X_train[:,1]\n"
   ]
  },
  {
   "cell_type": "code",
   "execution_count": 121,
   "metadata": {},
   "outputs": [],
   "source": [
    "#Define Keras Model\n",
    "def build_model(n_users,k_factors,m_items):\n",
    "    Joke_input = keras.layers.Input(shape=[1],name='Item')\n",
    "    Joke_embedding = keras.layers.Embedding(m_items + 1, k_factors, name='Joke-Embedding')(Joke_input)\n",
    "    Joke_vec = keras.layers.Flatten(name='FlattenJokes')(Joke_embedding)\n",
    "    \n",
    "    user_input = keras.layers.Input(shape=[1],name='User')\n",
    "    user_vec = keras.layers.Flatten(name='FlattenUsers')(keras.layers.Embedding(n_users + 1, k_factors,name='User-Embedding')(user_input))\n",
    "   \n",
    "    prod = keras.layers.Dot(axes=1)([Joke_vec,user_vec])\n",
    "    model = keras.Model([user_input, Joke_input], prod)\n",
    "    adam = k.optimizers.adamax(lr=0.01)\n",
    "    model.compile(adam, 'mean_squared_error', metrics=['accuracy'])\n",
    "    model.summary()\n",
    "    \n",
    "   \n",
    "    return model"
   ]
  },
  {
   "cell_type": "code",
   "execution_count": 124,
   "metadata": {},
   "outputs": [
    {
     "name": "stdout",
     "output_type": "stream",
     "text": [
      "36710\n",
      "100\n",
      "__________________________________________________________________________________________________\n",
      "Layer (type)                    Output Shape         Param #     Connected to                     \n",
      "==================================================================================================\n",
      "Item (InputLayer)               (None, 1)            0                                            \n",
      "__________________________________________________________________________________________________\n",
      "User (InputLayer)               (None, 1)            0                                            \n",
      "__________________________________________________________________________________________________\n",
      "Joke-Embedding (Embedding)      (None, 1, 5)         505         Item[0][0]                       \n",
      "__________________________________________________________________________________________________\n",
      "User-Embedding (Embedding)      (None, 1, 5)         183555      User[0][0]                       \n",
      "__________________________________________________________________________________________________\n",
      "FlattenJokes (Flatten)          (None, 5)            0           Joke-Embedding[0][0]             \n",
      "__________________________________________________________________________________________________\n",
      "FlattenUsers (Flatten)          (None, 5)            0           User-Embedding[0][0]             \n",
      "__________________________________________________________________________________________________\n",
      "dot_49 (Dot)                    (None, 1)            0           FlattenJokes[0][0]               \n",
      "                                                                 FlattenUsers[0][0]               \n",
      "==================================================================================================\n",
      "Total params: 184,060\n",
      "Trainable params: 184,060\n",
      "Non-trainable params: 0\n",
      "__________________________________________________________________________________________________\n"
     ]
    }
   ],
   "source": [
    "m = Users.shape[0]\n",
    "Users = np.reshape(Users, [m,1])\n",
    "Jokes = np.reshape(Jokes,[m,1])\n",
    "n_users = (np.unique(Users)).shape[0]\n",
    "print(n_users)\n",
    "n_jokes = (np.unique(Jokes)).shape[0]\n",
    "print(n_jokes)\n",
    "\n",
    "model = build_model(n_users,5,n_jokes)\n",
    "\n"
   ]
  },
  {
   "cell_type": "code",
   "execution_count": null,
   "metadata": {},
   "outputs": [
    {
     "name": "stdout",
     "output_type": "stream",
     "text": [
      "Train on 2168704 samples, validate on 240968 samples\n",
      "Epoch 1/40\n",
      "2168704/2168704 [==============================] - 2s 1us/step - loss: 14.9883 - acc: 0.0011 - val_loss: 17.1999 - val_acc: 0.0010\n",
      "Epoch 2/40\n",
      "2168704/2168704 [==============================] - 2s 1us/step - loss: 14.9382 - acc: 0.0011 - val_loss: 17.1954 - val_acc: 9.9598e-04\n",
      "Epoch 3/40\n",
      "2168704/2168704 [==============================] - 2s 1us/step - loss: 14.8977 - acc: 0.0011 - val_loss: 17.1886 - val_acc: 9.8353e-04\n",
      "Epoch 4/40\n",
      "2168704/2168704 [==============================] - 2s 1us/step - loss: 14.8651 - acc: 0.0011 - val_loss: 17.1853 - val_acc: 0.0010\n",
      "Epoch 5/40\n",
      "2168704/2168704 [==============================] - 2s 1us/step - loss: 14.8380 - acc: 0.0011 - val_loss: 17.1801 - val_acc: 0.0010\n",
      "Epoch 6/40\n",
      "2168704/2168704 [==============================] - 2s 1us/step - loss: 14.8156 - acc: 0.0011 - val_loss: 17.1785 - val_acc: 0.0010\n",
      "Epoch 7/40\n",
      "2168704/2168704 [==============================] - 2s 1us/step - loss: 14.7968 - acc: 0.0011 - val_loss: 17.1757 - val_acc: 0.0010\n",
      "Epoch 8/40\n",
      "2168704/2168704 [==============================] - 2s 1us/step - loss: 14.7804 - acc: 0.0011 - val_loss: 17.1733 - val_acc: 0.0010\n",
      "Epoch 9/40\n",
      "2168704/2168704 [==============================] - 2s 1us/step - loss: 14.7665 - acc: 0.0011 - val_loss: 17.1712 - val_acc: 0.0010\n",
      "Epoch 10/40\n",
      "2168704/2168704 [==============================] - 2s 1us/step - loss: 14.7547 - acc: 0.0011 - val_loss: 17.1705 - val_acc: 0.0010\n",
      "Epoch 11/40\n",
      "2168704/2168704 [==============================] - 2s 1us/step - loss: 14.7443 - acc: 0.0011 - val_loss: 17.1679 - val_acc: 0.0010\n",
      "Epoch 12/40\n",
      "2168704/2168704 [==============================] - 2s 1us/step - loss: 14.7355 - acc: 0.0011 - val_loss: 17.1679 - val_acc: 9.7938e-04\n",
      "Epoch 13/40\n",
      "2168704/2168704 [==============================] - 2s 1us/step - loss: 14.7275 - acc: 0.0011 - val_loss: 17.1677 - val_acc: 9.8353e-04\n",
      "Epoch 14/40\n",
      "2168704/2168704 [==============================] - 2s 1us/step - loss: 14.7204 - acc: 0.0011 - val_loss: 17.1666 - val_acc: 0.0010\n",
      "Epoch 15/40\n",
      "2168704/2168704 [==============================] - 2s 1us/step - loss: 14.7142 - acc: 0.0011 - val_loss: 17.1646 - val_acc: 9.7938e-04\n",
      "Epoch 16/40\n",
      "2168704/2168704 [==============================] - 2s 1us/step - loss: 14.7085 - acc: 0.0011 - val_loss: 17.1663 - val_acc: 9.7108e-04\n",
      "Epoch 17/40\n",
      "2168704/2168704 [==============================] - 2s 1us/step - loss: 14.7037 - acc: 0.0011 - val_loss: 17.1657 - val_acc: 9.5863e-04\n",
      "Epoch 18/40\n",
      "2168704/2168704 [==============================] - 2s 1us/step - loss: 14.6992 - acc: 0.0011 - val_loss: 17.1643 - val_acc: 9.8768e-04\n",
      "Epoch 19/40\n",
      "2168704/2168704 [==============================] - 2s 1us/step - loss: 14.6953 - acc: 0.0011 - val_loss: 17.1658 - val_acc: 9.7108e-04\n",
      "Epoch 20/40\n",
      "2168704/2168704 [==============================] - 2s 1us/step - loss: 14.6912 - acc: 0.0011 - val_loss: 17.1680 - val_acc: 0.0010\n",
      "Epoch 21/40\n",
      "2168704/2168704 [==============================] - 2s 1us/step - loss: 14.6880 - acc: 0.0011 - val_loss: 17.1669 - val_acc: 9.6278e-04\n",
      "Epoch 22/40\n",
      "2168704/2168704 [==============================] - 2s 1us/step - loss: 14.6850 - acc: 0.0011 - val_loss: 17.1678 - val_acc: 9.9598e-04\n",
      "Epoch 23/40\n",
      "2168704/2168704 [==============================] - 2s 1us/step - loss: 14.6821 - acc: 0.0011 - val_loss: 17.1693 - val_acc: 9.8353e-04\n",
      "Epoch 24/40\n",
      "2168704/2168704 [==============================] - 2s 1us/step - loss: 14.6797 - acc: 0.0011 - val_loss: 17.1694 - val_acc: 9.8768e-04\n",
      "Epoch 25/40\n",
      "2168704/2168704 [==============================] - 2s 1us/step - loss: 14.6771 - acc: 0.0011 - val_loss: 17.1709 - val_acc: 9.5033e-04\n",
      "Epoch 26/40\n",
      "2168704/2168704 [==============================] - 2s 1us/step - loss: 14.6749 - acc: 0.0011 - val_loss: 17.1698 - val_acc: 9.7108e-04\n",
      "Epoch 27/40\n",
      "2168704/2168704 [==============================] - 2s 1us/step - loss: 14.6726 - acc: 0.0011 - val_loss: 17.1727 - val_acc: 9.8353e-04\n",
      "Epoch 28/40\n",
      "2149000/2168704 [============================>.] - ETA: 0s - loss: 14.6685 - acc: 0.0011"
     ]
    }
   ],
   "source": [
    "\n",
    "history = model.fit([Users, Jokes], Y_train, batch_size= 7000, validation_split=0.1,epochs=40)\n"
   ]
  },
  {
   "cell_type": "code",
   "execution_count": 117,
   "metadata": {},
   "outputs": [
    {
     "data": {
      "image/png": "[encoded data removed]",
      "text/plain": [
       "<Figure size 432x288 with 1 Axes>"
      ]
     },
     "metadata": {
      "needs_background": "light"
     },
     "output_type": "display_data"
    }
   ],
   "source": [
    "plt.plot(history.history['acc'])\n",
    "plt.plot(history.history['val_acc'])\n",
    "plt.title('model accuracy')\n",
    "plt.ylabel('accuracy')\n",
    "plt.xlabel('epoch')\n",
    "plt.legend(['train', 'test'], loc='upper left')\n",
    "plt.show()\n"
   ]
  },
  {
   "cell_type": "code",
   "execution_count": 118,
   "metadata": {},
   "outputs": [
    {
     "data": {
      "image/png": "[encoded data removed]",
      "text/plain": [
       "<Figure size 432x288 with 1 Axes>"
      ]
     },
     "metadata": {
      "needs_background": "light"
     },
     "output_type": "display_data"
    }
   ],
   "source": [
    "# summarize history for loss\n",
    "plt.plot(history.history['loss'])\n",
    "plt.plot(history.history['val_loss'])\n",
    "plt.title('model loss')\n",
    "plt.ylabel('loss')\n",
    "plt.xlabel('epoch')\n",
    "plt.legend(['train', 'test'], loc='upper left')\n",
    "plt.show()\n"
   ]
  },
  {
   "cell_type": "code",
   "execution_count": 120,
   "metadata": {},
   "outputs": [],
   "source": [
    "model.save('Model_Joke.h5')"
   ]
  },
  {
   "cell_type": "code",
   "execution_count": null,
   "metadata": {},
   "outputs": [],
   "source": []
  }
 ],
 "metadata": {
  "kernelspec": {
   "display_name": "Python 3",
   "language": "python",
   "name": "python3"
  },
  "language_info": {
   "codemirror_mode": {
    "name": "ipython",
    "version": 3
   },
   "file_extension": ".py",
   "mimetype": "text/x-python",
   "name": "python",
   "nbconvert_exporter": "python",
   "pygments_lexer": "ipython3",
   "version": "3.6.6"
  }
 },
 "nbformat": 4,
 "nbformat_minor": 2
}
