{
 "cells": [
  {
   "cell_type": "code",
   "execution_count": 1,
   "metadata": {},
   "outputs": [],
   "source": [
    "import pandas as pd \n",
    "import numpy as np\n",
    "from sklearn.model_selection import train_test_split\n",
    "from sklearn.metrics.pairwise import pairwise_distances "
   ]
  },
  {
   "cell_type": "code",
   "execution_count": 2,
   "metadata": {},
   "outputs": [],
   "source": [
    "#Load data\n",
    "df = pd.read_csv('UserRatings1.csv')"
   ]
  },
  {
   "cell_type": "code",
   "execution_count": 3,
   "metadata": {},
   "outputs": [
    {
     "data": {
      "text/html": [
       "<div>\n",
       "<style scoped>\n",
       "    .dataframe tbody tr th:only-of-type {\n",
       "        vertical-align: middle;\n",
       "    }\n",
       "\n",
       "    .dataframe tbody tr th {\n",
       "        vertical-align: top;\n",
       "    }\n",
       "\n",
       "    .dataframe thead th {\n",
       "        text-align: right;\n",
       "    }\n",
       "</style>\n",
       "<table border=\"1\" class=\"dataframe\">\n",
       "  <thead>\n",
       "    <tr style=\"text-align: right;\">\n",
       "      <th></th>\n",
       "      <th>JokeId</th>\n",
       "      <th>User1</th>\n",
       "      <th>User2</th>\n",
       "      <th>User3</th>\n",
       "      <th>User4</th>\n",
       "      <th>User5</th>\n",
       "      <th>User6</th>\n",
       "      <th>User7</th>\n",
       "      <th>User8</th>\n",
       "      <th>User9</th>\n",
       "      <th>...</th>\n",
       "      <th>User36701</th>\n",
       "      <th>User36702</th>\n",
       "      <th>User36703</th>\n",
       "      <th>User36704</th>\n",
       "      <th>User36705</th>\n",
       "      <th>User36706</th>\n",
       "      <th>User36707</th>\n",
       "      <th>User36708</th>\n",
       "      <th>User36709</th>\n",
       "      <th>User36710</th>\n",
       "    </tr>\n",
       "  </thead>\n",
       "  <tbody>\n",
       "    <tr>\n",
       "      <th>0</th>\n",
       "      <td>0</td>\n",
       "      <td>5.10</td>\n",
       "      <td>-8.79</td>\n",
       "      <td>-3.50</td>\n",
       "      <td>7.14</td>\n",
       "      <td>-8.79</td>\n",
       "      <td>9.22</td>\n",
       "      <td>-4.03</td>\n",
       "      <td>3.11</td>\n",
       "      <td>-3.64</td>\n",
       "      <td>...</td>\n",
       "      <td>NaN</td>\n",
       "      <td>NaN</td>\n",
       "      <td>NaN</td>\n",
       "      <td>NaN</td>\n",
       "      <td>NaN</td>\n",
       "      <td>NaN</td>\n",
       "      <td>NaN</td>\n",
       "      <td>NaN</td>\n",
       "      <td>2.91</td>\n",
       "      <td>NaN</td>\n",
       "    </tr>\n",
       "    <tr>\n",
       "      <th>1</th>\n",
       "      <td>1</td>\n",
       "      <td>4.90</td>\n",
       "      <td>-0.87</td>\n",
       "      <td>-2.91</td>\n",
       "      <td>-3.88</td>\n",
       "      <td>-0.58</td>\n",
       "      <td>9.37</td>\n",
       "      <td>-1.55</td>\n",
       "      <td>0.92</td>\n",
       "      <td>-3.35</td>\n",
       "      <td>...</td>\n",
       "      <td>NaN</td>\n",
       "      <td>NaN</td>\n",
       "      <td>NaN</td>\n",
       "      <td>-5.63</td>\n",
       "      <td>NaN</td>\n",
       "      <td>-6.07</td>\n",
       "      <td>NaN</td>\n",
       "      <td>-1.60</td>\n",
       "      <td>-4.56</td>\n",
       "      <td>NaN</td>\n",
       "    </tr>\n",
       "    <tr>\n",
       "      <th>2</th>\n",
       "      <td>2</td>\n",
       "      <td>1.75</td>\n",
       "      <td>1.99</td>\n",
       "      <td>-2.18</td>\n",
       "      <td>-3.06</td>\n",
       "      <td>-0.58</td>\n",
       "      <td>-3.93</td>\n",
       "      <td>-3.64</td>\n",
       "      <td>7.52</td>\n",
       "      <td>-6.46</td>\n",
       "      <td>...</td>\n",
       "      <td>NaN</td>\n",
       "      <td>NaN</td>\n",
       "      <td>NaN</td>\n",
       "      <td>NaN</td>\n",
       "      <td>NaN</td>\n",
       "      <td>4.08</td>\n",
       "      <td>NaN</td>\n",
       "      <td>NaN</td>\n",
       "      <td>8.98</td>\n",
       "      <td>NaN</td>\n",
       "    </tr>\n",
       "    <tr>\n",
       "      <th>3</th>\n",
       "      <td>3</td>\n",
       "      <td>-4.17</td>\n",
       "      <td>-4.61</td>\n",
       "      <td>-0.10</td>\n",
       "      <td>0.05</td>\n",
       "      <td>8.98</td>\n",
       "      <td>9.27</td>\n",
       "      <td>-6.99</td>\n",
       "      <td>0.49</td>\n",
       "      <td>-3.40</td>\n",
       "      <td>...</td>\n",
       "      <td>NaN</td>\n",
       "      <td>NaN</td>\n",
       "      <td>NaN</td>\n",
       "      <td>NaN</td>\n",
       "      <td>NaN</td>\n",
       "      <td>NaN</td>\n",
       "      <td>NaN</td>\n",
       "      <td>NaN</td>\n",
       "      <td>NaN</td>\n",
       "      <td>NaN</td>\n",
       "    </tr>\n",
       "    <tr>\n",
       "      <th>4</th>\n",
       "      <td>4</td>\n",
       "      <td>5.15</td>\n",
       "      <td>5.39</td>\n",
       "      <td>7.52</td>\n",
       "      <td>6.26</td>\n",
       "      <td>7.67</td>\n",
       "      <td>3.45</td>\n",
       "      <td>5.44</td>\n",
       "      <td>-0.58</td>\n",
       "      <td>1.26</td>\n",
       "      <td>...</td>\n",
       "      <td>2.28</td>\n",
       "      <td>-0.49</td>\n",
       "      <td>5.1</td>\n",
       "      <td>-0.29</td>\n",
       "      <td>-3.54</td>\n",
       "      <td>-1.36</td>\n",
       "      <td>7.48</td>\n",
       "      <td>-5.78</td>\n",
       "      <td>0.73</td>\n",
       "      <td>2.62</td>\n",
       "    </tr>\n",
       "  </tbody>\n",
       "</table>\n",
       "<p>5 rows × 36711 columns</p>\n",
       "</div>"
      ],
      "text/plain": [
       "   JokeId  User1  User2  User3  User4  User5  User6  User7  User8  User9  \\\n",
       "0       0   5.10  -8.79  -3.50   7.14  -8.79   9.22  -4.03   3.11  -3.64   \n",
       "1       1   4.90  -0.87  -2.91  -3.88  -0.58   9.37  -1.55   0.92  -3.35   \n",
       "2       2   1.75   1.99  -2.18  -3.06  -0.58  -3.93  -3.64   7.52  -6.46   \n",
       "3       3  -4.17  -4.61  -0.10   0.05   8.98   9.27  -6.99   0.49  -3.40   \n",
       "4       4   5.15   5.39   7.52   6.26   7.67   3.45   5.44  -0.58   1.26   \n",
       "\n",
       "     ...      User36701  User36702  User36703  User36704  User36705  \\\n",
       "0    ...            NaN        NaN        NaN        NaN        NaN   \n",
       "1    ...            NaN        NaN        NaN      -5.63        NaN   \n",
       "2    ...            NaN        NaN        NaN        NaN        NaN   \n",
       "3    ...            NaN        NaN        NaN        NaN        NaN   \n",
       "4    ...           2.28      -0.49        5.1      -0.29      -3.54   \n",
       "\n",
       "   User36706  User36707  User36708  User36709  User36710  \n",
       "0        NaN        NaN        NaN       2.91        NaN  \n",
       "1      -6.07        NaN      -1.60      -4.56        NaN  \n",
       "2       4.08        NaN        NaN       8.98        NaN  \n",
       "3        NaN        NaN        NaN        NaN        NaN  \n",
       "4      -1.36       7.48      -5.78       0.73       2.62  \n",
       "\n",
       "[5 rows x 36711 columns]"
      ]
     },
     "execution_count": 3,
     "metadata": {},
     "output_type": "execute_result"
    }
   ],
   "source": [
    "df.head()"
   ]
  },
  {
   "cell_type": "code",
   "execution_count": 4,
   "metadata": {},
   "outputs": [],
   "source": [
    "data = df.transpose().fillna(0)"
   ]
  },
  {
   "cell_type": "code",
   "execution_count": 5,
   "metadata": {},
   "outputs": [
    {
     "data": {
      "text/html": [
       "<div>\n",
       "<style scoped>\n",
       "    .dataframe tbody tr th:only-of-type {\n",
       "        vertical-align: middle;\n",
       "    }\n",
       "\n",
       "    .dataframe tbody tr th {\n",
       "        vertical-align: top;\n",
       "    }\n",
       "\n",
       "    .dataframe thead th {\n",
       "        text-align: right;\n",
       "    }\n",
       "</style>\n",
       "<table border=\"1\" class=\"dataframe\">\n",
       "  <thead>\n",
       "    <tr style=\"text-align: right;\">\n",
       "      <th></th>\n",
       "      <th>0</th>\n",
       "      <th>1</th>\n",
       "      <th>2</th>\n",
       "      <th>3</th>\n",
       "      <th>4</th>\n",
       "      <th>5</th>\n",
       "      <th>6</th>\n",
       "      <th>7</th>\n",
       "      <th>8</th>\n",
       "      <th>9</th>\n",
       "      <th>...</th>\n",
       "      <th>90</th>\n",
       "      <th>91</th>\n",
       "      <th>92</th>\n",
       "      <th>93</th>\n",
       "      <th>94</th>\n",
       "      <th>95</th>\n",
       "      <th>96</th>\n",
       "      <th>97</th>\n",
       "      <th>98</th>\n",
       "      <th>99</th>\n",
       "    </tr>\n",
       "  </thead>\n",
       "  <tbody>\n",
       "    <tr>\n",
       "      <th>JokeId</th>\n",
       "      <td>0.00</td>\n",
       "      <td>1.00</td>\n",
       "      <td>2.00</td>\n",
       "      <td>3.00</td>\n",
       "      <td>4.00</td>\n",
       "      <td>5.00</td>\n",
       "      <td>6.00</td>\n",
       "      <td>7.00</td>\n",
       "      <td>8.00</td>\n",
       "      <td>9.00</td>\n",
       "      <td>...</td>\n",
       "      <td>90.00</td>\n",
       "      <td>91.00</td>\n",
       "      <td>92.00</td>\n",
       "      <td>93.00</td>\n",
       "      <td>94.00</td>\n",
       "      <td>95.00</td>\n",
       "      <td>96.00</td>\n",
       "      <td>97.00</td>\n",
       "      <td>98.00</td>\n",
       "      <td>99.00</td>\n",
       "    </tr>\n",
       "    <tr>\n",
       "      <th>User1</th>\n",
       "      <td>5.10</td>\n",
       "      <td>4.90</td>\n",
       "      <td>1.75</td>\n",
       "      <td>-4.17</td>\n",
       "      <td>5.15</td>\n",
       "      <td>1.75</td>\n",
       "      <td>4.76</td>\n",
       "      <td>3.30</td>\n",
       "      <td>-2.57</td>\n",
       "      <td>-1.41</td>\n",
       "      <td>...</td>\n",
       "      <td>5.34</td>\n",
       "      <td>-4.61</td>\n",
       "      <td>3.59</td>\n",
       "      <td>7.18</td>\n",
       "      <td>0.92</td>\n",
       "      <td>6.31</td>\n",
       "      <td>-4.95</td>\n",
       "      <td>-0.19</td>\n",
       "      <td>3.25</td>\n",
       "      <td>4.37</td>\n",
       "    </tr>\n",
       "    <tr>\n",
       "      <th>User2</th>\n",
       "      <td>-8.79</td>\n",
       "      <td>-0.87</td>\n",
       "      <td>1.99</td>\n",
       "      <td>-4.61</td>\n",
       "      <td>5.39</td>\n",
       "      <td>-0.78</td>\n",
       "      <td>1.60</td>\n",
       "      <td>1.07</td>\n",
       "      <td>-8.69</td>\n",
       "      <td>-4.66</td>\n",
       "      <td>...</td>\n",
       "      <td>3.59</td>\n",
       "      <td>1.21</td>\n",
       "      <td>2.86</td>\n",
       "      <td>-0.05</td>\n",
       "      <td>-1.75</td>\n",
       "      <td>-1.02</td>\n",
       "      <td>-0.97</td>\n",
       "      <td>4.13</td>\n",
       "      <td>-1.84</td>\n",
       "      <td>2.96</td>\n",
       "    </tr>\n",
       "    <tr>\n",
       "      <th>User3</th>\n",
       "      <td>-3.50</td>\n",
       "      <td>-2.91</td>\n",
       "      <td>-2.18</td>\n",
       "      <td>-0.10</td>\n",
       "      <td>7.52</td>\n",
       "      <td>1.26</td>\n",
       "      <td>-5.39</td>\n",
       "      <td>1.50</td>\n",
       "      <td>-8.40</td>\n",
       "      <td>4.37</td>\n",
       "      <td>...</td>\n",
       "      <td>1.84</td>\n",
       "      <td>-4.03</td>\n",
       "      <td>-1.41</td>\n",
       "      <td>1.65</td>\n",
       "      <td>-3.79</td>\n",
       "      <td>3.98</td>\n",
       "      <td>-6.46</td>\n",
       "      <td>-6.89</td>\n",
       "      <td>-2.33</td>\n",
       "      <td>-7.38</td>\n",
       "    </tr>\n",
       "    <tr>\n",
       "      <th>User4</th>\n",
       "      <td>7.14</td>\n",
       "      <td>-3.88</td>\n",
       "      <td>-3.06</td>\n",
       "      <td>0.05</td>\n",
       "      <td>6.26</td>\n",
       "      <td>6.65</td>\n",
       "      <td>-7.52</td>\n",
       "      <td>7.28</td>\n",
       "      <td>-5.15</td>\n",
       "      <td>-7.14</td>\n",
       "      <td>...</td>\n",
       "      <td>-4.47</td>\n",
       "      <td>6.36</td>\n",
       "      <td>4.71</td>\n",
       "      <td>-5.19</td>\n",
       "      <td>6.26</td>\n",
       "      <td>3.93</td>\n",
       "      <td>-2.57</td>\n",
       "      <td>1.07</td>\n",
       "      <td>2.33</td>\n",
       "      <td>-0.34</td>\n",
       "    </tr>\n",
       "  </tbody>\n",
       "</table>\n",
       "<p>5 rows × 100 columns</p>\n",
       "</div>"
      ],
      "text/plain": [
       "          0     1     2     3     4     5     6     7     8     9   ...    \\\n",
       "JokeId  0.00  1.00  2.00  3.00  4.00  5.00  6.00  7.00  8.00  9.00  ...     \n",
       "User1   5.10  4.90  1.75 -4.17  5.15  1.75  4.76  3.30 -2.57 -1.41  ...     \n",
       "User2  -8.79 -0.87  1.99 -4.61  5.39 -0.78  1.60  1.07 -8.69 -4.66  ...     \n",
       "User3  -3.50 -2.91 -2.18 -0.10  7.52  1.26 -5.39  1.50 -8.40  4.37  ...     \n",
       "User4   7.14 -3.88 -3.06  0.05  6.26  6.65 -7.52  7.28 -5.15 -7.14  ...     \n",
       "\n",
       "           90     91     92     93     94     95     96     97     98     99  \n",
       "JokeId  90.00  91.00  92.00  93.00  94.00  95.00  96.00  97.00  98.00  99.00  \n",
       "User1    5.34  -4.61   3.59   7.18   0.92   6.31  -4.95  -0.19   3.25   4.37  \n",
       "User2    3.59   1.21   2.86  -0.05  -1.75  -1.02  -0.97   4.13  -1.84   2.96  \n",
       "User3    1.84  -4.03  -1.41   1.65  -3.79   3.98  -6.46  -6.89  -2.33  -7.38  \n",
       "User4   -4.47   6.36   4.71  -5.19   6.26   3.93  -2.57   1.07   2.33  -0.34  \n",
       "\n",
       "[5 rows x 100 columns]"
      ]
     },
     "execution_count": 5,
     "metadata": {},
     "output_type": "execute_result"
    }
   ],
   "source": [
    "data.head()"
   ]
  },
  {
   "cell_type": "code",
   "execution_count": 6,
   "metadata": {},
   "outputs": [],
   "source": [
    "#clean\n",
    "data = data.iloc[1:,:]"
   ]
  },
  {
   "cell_type": "code",
   "execution_count": 7,
   "metadata": {},
   "outputs": [],
   "source": [
    "user_similarity = pairwise_distances(data, metric='cosine')"
   ]
  },
  {
   "cell_type": "code",
   "execution_count": 8,
   "metadata": {},
   "outputs": [],
   "source": [
    "#Predict user - user using top30\n",
    "def predict_user_user(train_matrix, user_similarity, n_similar=30):\n",
    "    similar_n = user_similarity.argsort()[:,-n_similar:][:,::-1]\n",
    "    n_users_base = train_matrix.shape[0]\n",
    "    n_items_base = train_matrix.shape[1]\n",
    "    pred = np.zeros((n_users_base,n_items_base))\n",
    "    for i,users in enumerate(similar_n):\n",
    "        similar_users_indexes = users\n",
    "        similarity_n = user_similarity[i,similar_users_indexes]\n",
    "        matrix_n = train_matrix[similar_users_indexes,:]\n",
    "        rated_items = similarity_n[:,np.newaxis].T.dot(matrix_n - matrix_n.mean(axis=1)[:,np.newaxis])/ similarity_n.sum()\n",
    "        pred[i,:]  = rated_items\n",
    "    return pred"
   ]
  },
  {
   "cell_type": "code",
   "execution_count": 9,
   "metadata": {},
   "outputs": [],
   "source": [
    "#Use top 50 and then add average rating, which was used to normalize in predict_user_user\n",
    "data_np = data.values\n",
    "predictions = predict_user_user(data_np,user_similarity, 50) + data.mean(axis=1)[:, np.newaxis]\n"
   ]
  },
  {
   "cell_type": "code",
   "execution_count": 17,
   "metadata": {},
   "outputs": [
    {
     "name": "stdout",
     "output_type": "stream",
     "text": [
      "(36710, 100)\n"
     ]
    }
   ],
   "source": [
    "print(predictions.shape)"
   ]
  },
  {
   "cell_type": "code",
   "execution_count": 16,
   "metadata": {},
   "outputs": [
    {
     "name": "stdout",
     "output_type": "stream",
     "text": [
      "(36710, 100)\n"
     ]
    }
   ],
   "source": [
    "print(data.shape)"
   ]
  },
  {
   "cell_type": "code",
   "execution_count": 24,
   "metadata": {},
   "outputs": [],
   "source": [
    "#Find error in each predictions\n",
    "e = np.abs(np.subtract(predictions,data))"
   ]
  },
  {
   "cell_type": "code",
   "execution_count": 31,
   "metadata": {},
   "outputs": [
    {
     "name": "stdout",
     "output_type": "stream",
     "text": [
      "4.705225201117708\n"
     ]
    }
   ],
   "source": [
    "#Find average error\n",
    "tot = e.shape[0] * e.shape[1]\n",
    "print((e.sum().sum())/tot)"
   ]
  },
  {
   "cell_type": "code",
   "execution_count": 36,
   "metadata": {},
   "outputs": [
    {
     "data": {
      "text/plain": [
       "(100, 100)"
      ]
     },
     "execution_count": 36,
     "metadata": {},
     "output_type": "execute_result"
    }
   ],
   "source": [
    "#Item similarity\n",
    "item_similarity = pairwise_distances(data_np.T, metric = 'cosine')\n",
    "item_similarity.shape"
   ]
  },
  {
   "cell_type": "code",
   "execution_count": 38,
   "metadata": {},
   "outputs": [],
   "source": [
    "#Define function to prediction using item-item\n",
    "def predict_item_item(train_matrix, item_similarity, n_similar=30):\n",
    "    n_users_base = train_matrix.shape[0]\n",
    "    n_items_base = train_matrix.shape[1]\n",
    "    similar_n = item_similarity.argsort()[:,-n_similar:][:,::-1]\n",
    "    print('similar_n shape: ', similar_n.shape)\n",
    "    pred = np.zeros((n_users_base,n_items_base))\n",
    "    \n",
    "    for i,items in enumerate(similar_n):\n",
    "        similar_items_indexes = items\n",
    "        similarity_n = item_similarity[i,similar_items_indexes]\n",
    "        matrix_n = train_matrix[:,similar_items_indexes]\n",
    "        rated_items = matrix_n.dot(similarity_n)/similarity_n.sum()\n",
    "        pred[:,i]  = rated_items\n",
    "    return pred\n"
   ]
  },
  {
   "cell_type": "code",
   "execution_count": 39,
   "metadata": {},
   "outputs": [
    {
     "name": "stdout",
     "output_type": "stream",
     "text": [
      "similar_n shape:  (100, 50)\n",
      "predictions shape  (36710, 100)\n"
     ]
    }
   ],
   "source": [
    "#Find predictions\n",
    "predictions = predict_item_item(data_np,item_similarity,50)\n",
    "print('predictions shape ',predictions.shape)\n"
   ]
  },
  {
   "cell_type": "code",
   "execution_count": 40,
   "metadata": {},
   "outputs": [],
   "source": [
    "#Find error in each predictions\n",
    "e = np.abs(np.subtract(predictions,data))"
   ]
  },
  {
   "cell_type": "code",
   "execution_count": 41,
   "metadata": {},
   "outputs": [
    {
     "name": "stdout",
     "output_type": "stream",
     "text": [
      "3.871993759236794\n"
     ]
    }
   ],
   "source": [
    "#Find average error\n",
    "tot = e.shape[0] * e.shape[1]\n",
    "print((e.sum().sum())/tot)"
   ]
  },
  {
   "cell_type": "code",
   "execution_count": null,
   "metadata": {},
   "outputs": [],
   "source": []
  }
 ],
 "metadata": {
  "kernelspec": {
   "display_name": "Python 3",
   "language": "python",
   "name": "python3"
  },
  "language_info": {
   "codemirror_mode": {
    "name": "ipython",
    "version": 3
   },
   "file_extension": ".py",
   "mimetype": "text/x-python",
   "name": "python",
   "nbconvert_exporter": "python",
   "pygments_lexer": "ipython3",
   "version": "3.6.6"
  }
 },
 "nbformat": 4,
 "nbformat_minor": 2
}
