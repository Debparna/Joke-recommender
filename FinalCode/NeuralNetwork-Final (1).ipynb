{
 "cells": [
  {
   "cell_type": "markdown",
   "metadata": {},
   "source": [
    "# Objective\n",
    "## 1. Build Recommendation system\n",
    "## 2. Add functionality to choose datasetsize\n",
    "## 3. Get predictions matrix for user\n",
    "## 4. Make Matrix where each row corresponds to user and columns to JokeID where each column from left to right tells you the Joke ID( Leftmost is the most desirable)"
   ]
  },
  {
   "cell_type": "code",
   "execution_count": 1,
   "metadata": {},
   "outputs": [
    {
     "name": "stderr",
     "output_type": "stream",
     "text": [
      "/home/atharvachalke/anaconda3/lib/python3.6/site-packages/h5py/__init__.py:34: FutureWarning: Conversion of the second argument of issubdtype from `float` to `np.floating` is deprecated. In future, it will be treated as `np.float64 == np.dtype(float).type`.\n",
      "  from ._conv import register_converters as _register_converters\n",
      "Using TensorFlow backend.\n"
     ]
    }
   ],
   "source": [
    "#import libraries\n",
    "import numpy as np\n",
    "import pandas as pd \n",
    "import keras as k\n",
    "import tensorflow as tf \n",
    "import numba\n",
    "from numba import jit\n",
    "from datetime import datetime\n",
    "import time \n",
    "import matplotlib.pyplot as plt \n",
    "import sklearn\n",
    "from sklearn.model_selection import train_test_split\n",
    "from keras.layers import Embedding, Reshape, merge\n",
    "from keras.models import Sequential\n",
    "from IPython.display import SVG\n",
    "from keras.optimizers import Adam\n",
    "from keras.utils.vis_utils import model_to_dot\n",
    "from sklearn.preprocessing import normalize\n",
    "import keras\n",
    "import math"
   ]
  },
  {
   "cell_type": "code",
   "execution_count": 2,
   "metadata": {
    "collapsed": true
   },
   "outputs": [],
   "source": [
    "#Name Jokes\n",
    "col = np.linspace(0,100,101)"
   ]
  },
  {
   "cell_type": "markdown",
   "metadata": {},
   "source": [
    "# Load dataset and clean it up so it can be used in the neural network for training and validation"
   ]
  },
  {
   "cell_type": "code",
   "execution_count": 3,
   "metadata": {},
   "outputs": [
    {
     "name": "stdout",
     "output_type": "stream",
     "text": [
      "put_cell 14340 76\n"
     ]
    },
    {
     "ename": "KeyboardInterrupt",
     "evalue": "",
     "output_type": "error",
     "traceback": [
      "\u001b[0;31m---------------------------------------------------------------------------\u001b[0m",
      "\u001b[0;31mKeyboardInterrupt\u001b[0m                         Traceback (most recent call last)",
      "\u001b[0;32m<ipython-input-3-643817372f5b>\u001b[0m in \u001b[0;36m<module>\u001b[0;34m()\u001b[0m\n\u001b[1;32m      1\u001b[0m \u001b[0;31m#load data\u001b[0m\u001b[0;34m\u001b[0m\u001b[0;34m\u001b[0m\u001b[0m\n\u001b[1;32m      2\u001b[0m \u001b[0mdf1\u001b[0m \u001b[0;34m=\u001b[0m \u001b[0mpd\u001b[0m\u001b[0;34m.\u001b[0m\u001b[0mread_excel\u001b[0m\u001b[0;34m(\u001b[0m\u001b[0;34m'jester-data-1.xls'\u001b[0m\u001b[0;34m,\u001b[0m \u001b[0mnames\u001b[0m\u001b[0;34m=\u001b[0m\u001b[0mcol\u001b[0m\u001b[0;34m)\u001b[0m\u001b[0;34m\u001b[0m\u001b[0m\n\u001b[0;32m----> 3\u001b[0;31m \u001b[0mdf2\u001b[0m \u001b[0;34m=\u001b[0m \u001b[0mpd\u001b[0m\u001b[0;34m.\u001b[0m\u001b[0mread_excel\u001b[0m\u001b[0;34m(\u001b[0m\u001b[0;34m'jester-data-2.xls'\u001b[0m\u001b[0;34m,\u001b[0m \u001b[0mnames\u001b[0m \u001b[0;34m=\u001b[0m \u001b[0mcol\u001b[0m\u001b[0;34m)\u001b[0m\u001b[0;34m\u001b[0m\u001b[0m\n\u001b[0m\u001b[1;32m      4\u001b[0m \u001b[0mdf3\u001b[0m \u001b[0;34m=\u001b[0m \u001b[0mpd\u001b[0m\u001b[0;34m.\u001b[0m\u001b[0mread_excel\u001b[0m\u001b[0;34m(\u001b[0m\u001b[0;34m'jester-data-3.xls'\u001b[0m\u001b[0;34m,\u001b[0m \u001b[0mnames\u001b[0m \u001b[0;34m=\u001b[0m \u001b[0mcol\u001b[0m\u001b[0;34m)\u001b[0m\u001b[0;34m\u001b[0m\u001b[0m\n",
      "\u001b[0;32m~/anaconda3/lib/python3.6/site-packages/pandas/util/_decorators.py\u001b[0m in \u001b[0;36mwrapper\u001b[0;34m(*args, **kwargs)\u001b[0m\n\u001b[1;32m    176\u001b[0m                 \u001b[0;32melse\u001b[0m\u001b[0;34m:\u001b[0m\u001b[0;34m\u001b[0m\u001b[0m\n\u001b[1;32m    177\u001b[0m                     \u001b[0mkwargs\u001b[0m\u001b[0;34m[\u001b[0m\u001b[0mnew_arg_name\u001b[0m\u001b[0;34m]\u001b[0m \u001b[0;34m=\u001b[0m \u001b[0mnew_arg_value\u001b[0m\u001b[0;34m\u001b[0m\u001b[0m\n\u001b[0;32m--> 178\u001b[0;31m             \u001b[0;32mreturn\u001b[0m \u001b[0mfunc\u001b[0m\u001b[0;34m(\u001b[0m\u001b[0;34m*\u001b[0m\u001b[0margs\u001b[0m\u001b[0;34m,\u001b[0m \u001b[0;34m**\u001b[0m\u001b[0mkwargs\u001b[0m\u001b[0;34m)\u001b[0m\u001b[0;34m\u001b[0m\u001b[0m\n\u001b[0m\u001b[1;32m    179\u001b[0m         \u001b[0;32mreturn\u001b[0m \u001b[0mwrapper\u001b[0m\u001b[0;34m\u001b[0m\u001b[0m\n\u001b[1;32m    180\u001b[0m     \u001b[0;32mreturn\u001b[0m \u001b[0m_deprecate_kwarg\u001b[0m\u001b[0;34m\u001b[0m\u001b[0m\n",
      "\u001b[0;32m~/anaconda3/lib/python3.6/site-packages/pandas/util/_decorators.py\u001b[0m in \u001b[0;36mwrapper\u001b[0;34m(*args, **kwargs)\u001b[0m\n\u001b[1;32m    176\u001b[0m                 \u001b[0;32melse\u001b[0m\u001b[0;34m:\u001b[0m\u001b[0;34m\u001b[0m\u001b[0m\n\u001b[1;32m    177\u001b[0m                     \u001b[0mkwargs\u001b[0m\u001b[0;34m[\u001b[0m\u001b[0mnew_arg_name\u001b[0m\u001b[0;34m]\u001b[0m \u001b[0;34m=\u001b[0m \u001b[0mnew_arg_value\u001b[0m\u001b[0;34m\u001b[0m\u001b[0m\n\u001b[0;32m--> 178\u001b[0;31m             \u001b[0;32mreturn\u001b[0m \u001b[0mfunc\u001b[0m\u001b[0;34m(\u001b[0m\u001b[0;34m*\u001b[0m\u001b[0margs\u001b[0m\u001b[0;34m,\u001b[0m \u001b[0;34m**\u001b[0m\u001b[0mkwargs\u001b[0m\u001b[0;34m)\u001b[0m\u001b[0;34m\u001b[0m\u001b[0m\n\u001b[0m\u001b[1;32m    179\u001b[0m         \u001b[0;32mreturn\u001b[0m \u001b[0mwrapper\u001b[0m\u001b[0;34m\u001b[0m\u001b[0m\n\u001b[1;32m    180\u001b[0m     \u001b[0;32mreturn\u001b[0m \u001b[0m_deprecate_kwarg\u001b[0m\u001b[0;34m\u001b[0m\u001b[0m\n",
      "\u001b[0;32m~/anaconda3/lib/python3.6/site-packages/pandas/io/excel.py\u001b[0m in \u001b[0;36mread_excel\u001b[0;34m(io, sheet_name, header, names, index_col, usecols, squeeze, dtype, engine, converters, true_values, false_values, skiprows, nrows, na_values, parse_dates, date_parser, thousands, comment, skipfooter, convert_float, **kwds)\u001b[0m\n\u001b[1;32m    305\u001b[0m \u001b[0;34m\u001b[0m\u001b[0m\n\u001b[1;32m    306\u001b[0m     \u001b[0;32mif\u001b[0m \u001b[0;32mnot\u001b[0m \u001b[0misinstance\u001b[0m\u001b[0;34m(\u001b[0m\u001b[0mio\u001b[0m\u001b[0;34m,\u001b[0m \u001b[0mExcelFile\u001b[0m\u001b[0;34m)\u001b[0m\u001b[0;34m:\u001b[0m\u001b[0;34m\u001b[0m\u001b[0m\n\u001b[0;32m--> 307\u001b[0;31m         \u001b[0mio\u001b[0m \u001b[0;34m=\u001b[0m \u001b[0mExcelFile\u001b[0m\u001b[0;34m(\u001b[0m\u001b[0mio\u001b[0m\u001b[0;34m,\u001b[0m \u001b[0mengine\u001b[0m\u001b[0;34m=\u001b[0m\u001b[0mengine\u001b[0m\u001b[0;34m)\u001b[0m\u001b[0;34m\u001b[0m\u001b[0m\n\u001b[0m\u001b[1;32m    308\u001b[0m \u001b[0;34m\u001b[0m\u001b[0m\n\u001b[1;32m    309\u001b[0m     return io.parse(\n",
      "\u001b[0;32m~/anaconda3/lib/python3.6/site-packages/pandas/io/excel.py\u001b[0m in \u001b[0;36m__init__\u001b[0;34m(self, io, **kwds)\u001b[0m\n\u001b[1;32m    392\u001b[0m             \u001b[0mself\u001b[0m\u001b[0;34m.\u001b[0m\u001b[0mbook\u001b[0m \u001b[0;34m=\u001b[0m \u001b[0mxlrd\u001b[0m\u001b[0;34m.\u001b[0m\u001b[0mopen_workbook\u001b[0m\u001b[0;34m(\u001b[0m\u001b[0mfile_contents\u001b[0m\u001b[0;34m=\u001b[0m\u001b[0mdata\u001b[0m\u001b[0;34m)\u001b[0m\u001b[0;34m\u001b[0m\u001b[0m\n\u001b[1;32m    393\u001b[0m         \u001b[0;32melif\u001b[0m \u001b[0misinstance\u001b[0m\u001b[0;34m(\u001b[0m\u001b[0mself\u001b[0m\u001b[0;34m.\u001b[0m\u001b[0m_io\u001b[0m\u001b[0;34m,\u001b[0m \u001b[0mcompat\u001b[0m\u001b[0;34m.\u001b[0m\u001b[0mstring_types\u001b[0m\u001b[0;34m)\u001b[0m\u001b[0;34m:\u001b[0m\u001b[0;34m\u001b[0m\u001b[0m\n\u001b[0;32m--> 394\u001b[0;31m             \u001b[0mself\u001b[0m\u001b[0;34m.\u001b[0m\u001b[0mbook\u001b[0m \u001b[0;34m=\u001b[0m \u001b[0mxlrd\u001b[0m\u001b[0;34m.\u001b[0m\u001b[0mopen_workbook\u001b[0m\u001b[0;34m(\u001b[0m\u001b[0mself\u001b[0m\u001b[0;34m.\u001b[0m\u001b[0m_io\u001b[0m\u001b[0;34m)\u001b[0m\u001b[0;34m\u001b[0m\u001b[0m\n\u001b[0m\u001b[1;32m    395\u001b[0m         \u001b[0;32melse\u001b[0m\u001b[0;34m:\u001b[0m\u001b[0;34m\u001b[0m\u001b[0m\n\u001b[1;32m    396\u001b[0m             raise ValueError('Must explicitly set engine if not passing in'\n",
      "\u001b[0;32m~/anaconda3/lib/python3.6/site-packages/xlrd/__init__.py\u001b[0m in \u001b[0;36mopen_workbook\u001b[0;34m(filename, logfile, verbosity, use_mmap, file_contents, encoding_override, formatting_info, on_demand, ragged_rows)\u001b[0m\n\u001b[1;32m    160\u001b[0m         \u001b[0mformatting_info\u001b[0m\u001b[0;34m=\u001b[0m\u001b[0mformatting_info\u001b[0m\u001b[0;34m,\u001b[0m\u001b[0;34m\u001b[0m\u001b[0m\n\u001b[1;32m    161\u001b[0m         \u001b[0mon_demand\u001b[0m\u001b[0;34m=\u001b[0m\u001b[0mon_demand\u001b[0m\u001b[0;34m,\u001b[0m\u001b[0;34m\u001b[0m\u001b[0m\n\u001b[0;32m--> 162\u001b[0;31m         \u001b[0mragged_rows\u001b[0m\u001b[0;34m=\u001b[0m\u001b[0mragged_rows\u001b[0m\u001b[0;34m,\u001b[0m\u001b[0;34m\u001b[0m\u001b[0m\n\u001b[0m\u001b[1;32m    163\u001b[0m         )\n\u001b[1;32m    164\u001b[0m     \u001b[0;32mreturn\u001b[0m \u001b[0mbk\u001b[0m\u001b[0;34m\u001b[0m\u001b[0m\n",
      "\u001b[0;32m~/anaconda3/lib/python3.6/site-packages/xlrd/book.py\u001b[0m in \u001b[0;36mopen_workbook_xls\u001b[0;34m(filename, logfile, verbosity, use_mmap, file_contents, encoding_override, formatting_info, on_demand, ragged_rows)\u001b[0m\n\u001b[1;32m    117\u001b[0m             \u001b[0mbk\u001b[0m\u001b[0;34m.\u001b[0m\u001b[0m_sheet_list\u001b[0m \u001b[0;34m=\u001b[0m \u001b[0;34m[\u001b[0m\u001b[0;32mNone\u001b[0m \u001b[0;32mfor\u001b[0m \u001b[0msh\u001b[0m \u001b[0;32min\u001b[0m \u001b[0mbk\u001b[0m\u001b[0;34m.\u001b[0m\u001b[0m_sheet_names\u001b[0m\u001b[0;34m]\u001b[0m\u001b[0;34m\u001b[0m\u001b[0m\n\u001b[1;32m    118\u001b[0m             \u001b[0;32mif\u001b[0m \u001b[0;32mnot\u001b[0m \u001b[0mon_demand\u001b[0m\u001b[0;34m:\u001b[0m\u001b[0;34m\u001b[0m\u001b[0m\n\u001b[0;32m--> 119\u001b[0;31m                 \u001b[0mbk\u001b[0m\u001b[0;34m.\u001b[0m\u001b[0mget_sheets\u001b[0m\u001b[0;34m(\u001b[0m\u001b[0;34m)\u001b[0m\u001b[0;34m\u001b[0m\u001b[0m\n\u001b[0m\u001b[1;32m    120\u001b[0m         \u001b[0mbk\u001b[0m\u001b[0;34m.\u001b[0m\u001b[0mnsheets\u001b[0m \u001b[0;34m=\u001b[0m \u001b[0mlen\u001b[0m\u001b[0;34m(\u001b[0m\u001b[0mbk\u001b[0m\u001b[0;34m.\u001b[0m\u001b[0m_sheet_list\u001b[0m\u001b[0;34m)\u001b[0m\u001b[0;34m\u001b[0m\u001b[0m\n\u001b[1;32m    121\u001b[0m         \u001b[0;32mif\u001b[0m \u001b[0mbiff_version\u001b[0m \u001b[0;34m==\u001b[0m \u001b[0;36m45\u001b[0m \u001b[0;32mand\u001b[0m \u001b[0mbk\u001b[0m\u001b[0;34m.\u001b[0m\u001b[0mnsheets\u001b[0m \u001b[0;34m>\u001b[0m \u001b[0;36m1\u001b[0m\u001b[0;34m:\u001b[0m\u001b[0;34m\u001b[0m\u001b[0m\n",
      "\u001b[0;32m~/anaconda3/lib/python3.6/site-packages/xlrd/book.py\u001b[0m in \u001b[0;36mget_sheets\u001b[0;34m(self)\u001b[0m\n\u001b[1;32m    717\u001b[0m         \u001b[0;32mfor\u001b[0m \u001b[0msheetno\u001b[0m \u001b[0;32min\u001b[0m \u001b[0mxrange\u001b[0m\u001b[0;34m(\u001b[0m\u001b[0mlen\u001b[0m\u001b[0;34m(\u001b[0m\u001b[0mself\u001b[0m\u001b[0;34m.\u001b[0m\u001b[0m_sheet_names\u001b[0m\u001b[0;34m)\u001b[0m\u001b[0;34m)\u001b[0m\u001b[0;34m:\u001b[0m\u001b[0;34m\u001b[0m\u001b[0m\n\u001b[1;32m    718\u001b[0m             \u001b[0;32mif\u001b[0m \u001b[0mDEBUG\u001b[0m\u001b[0;34m:\u001b[0m \u001b[0mprint\u001b[0m\u001b[0;34m(\u001b[0m\u001b[0;34m\"GET_SHEETS: sheetno =\"\u001b[0m\u001b[0;34m,\u001b[0m \u001b[0msheetno\u001b[0m\u001b[0;34m,\u001b[0m \u001b[0mself\u001b[0m\u001b[0;34m.\u001b[0m\u001b[0m_sheet_names\u001b[0m\u001b[0;34m,\u001b[0m \u001b[0mself\u001b[0m\u001b[0;34m.\u001b[0m\u001b[0m_sh_abs_posn\u001b[0m\u001b[0;34m,\u001b[0m \u001b[0mfile\u001b[0m\u001b[0;34m=\u001b[0m\u001b[0mself\u001b[0m\u001b[0;34m.\u001b[0m\u001b[0mlogfile\u001b[0m\u001b[0;34m)\u001b[0m\u001b[0;34m\u001b[0m\u001b[0m\n\u001b[0;32m--> 719\u001b[0;31m             \u001b[0mself\u001b[0m\u001b[0;34m.\u001b[0m\u001b[0mget_sheet\u001b[0m\u001b[0;34m(\u001b[0m\u001b[0msheetno\u001b[0m\u001b[0;34m)\u001b[0m\u001b[0;34m\u001b[0m\u001b[0m\n\u001b[0m\u001b[1;32m    720\u001b[0m \u001b[0;34m\u001b[0m\u001b[0m\n\u001b[1;32m    721\u001b[0m     \u001b[0;32mdef\u001b[0m \u001b[0mfake_globals_get_sheet\u001b[0m\u001b[0;34m(\u001b[0m\u001b[0mself\u001b[0m\u001b[0;34m)\u001b[0m\u001b[0;34m:\u001b[0m \u001b[0;31m# for BIFF 4.0 and earlier\u001b[0m\u001b[0;34m\u001b[0m\u001b[0m\n",
      "\u001b[0;32m~/anaconda3/lib/python3.6/site-packages/xlrd/book.py\u001b[0m in \u001b[0;36mget_sheet\u001b[0;34m(self, sh_number, update_pos)\u001b[0m\n\u001b[1;32m    708\u001b[0m                 \u001b[0msh_number\u001b[0m\u001b[0;34m,\u001b[0m\u001b[0;34m\u001b[0m\u001b[0m\n\u001b[1;32m    709\u001b[0m                 )\n\u001b[0;32m--> 710\u001b[0;31m         \u001b[0msh\u001b[0m\u001b[0;34m.\u001b[0m\u001b[0mread\u001b[0m\u001b[0;34m(\u001b[0m\u001b[0mself\u001b[0m\u001b[0;34m)\u001b[0m\u001b[0;34m\u001b[0m\u001b[0m\n\u001b[0m\u001b[1;32m    711\u001b[0m         \u001b[0mself\u001b[0m\u001b[0;34m.\u001b[0m\u001b[0m_sheet_list\u001b[0m\u001b[0;34m[\u001b[0m\u001b[0msh_number\u001b[0m\u001b[0;34m]\u001b[0m \u001b[0;34m=\u001b[0m \u001b[0msh\u001b[0m\u001b[0;34m\u001b[0m\u001b[0m\n\u001b[1;32m    712\u001b[0m         \u001b[0;32mreturn\u001b[0m \u001b[0msh\u001b[0m\u001b[0;34m\u001b[0m\u001b[0m\n",
      "\u001b[0;32m~/anaconda3/lib/python3.6/site-packages/xlrd/sheet.py\u001b[0m in \u001b[0;36mread\u001b[0;34m(self, bk)\u001b[0m\n\u001b[1;32m    851\u001b[0m                     \u001b[0md\u001b[0m \u001b[0;34m=\u001b[0m \u001b[0munpack_RK\u001b[0m\u001b[0;34m(\u001b[0m\u001b[0mdata\u001b[0m\u001b[0;34m[\u001b[0m\u001b[0mpos\u001b[0m\u001b[0;34m+\u001b[0m\u001b[0;36m2\u001b[0m\u001b[0;34m:\u001b[0m\u001b[0mpos\u001b[0m\u001b[0;34m+\u001b[0m\u001b[0;36m6\u001b[0m\u001b[0;34m]\u001b[0m\u001b[0;34m)\u001b[0m\u001b[0;34m\u001b[0m\u001b[0m\n\u001b[1;32m    852\u001b[0m                     \u001b[0mpos\u001b[0m \u001b[0;34m+=\u001b[0m \u001b[0;36m6\u001b[0m\u001b[0;34m\u001b[0m\u001b[0m\n\u001b[0;32m--> 853\u001b[0;31m                     \u001b[0mself_put_cell\u001b[0m\u001b[0;34m(\u001b[0m\u001b[0mmulrk_row\u001b[0m\u001b[0;34m,\u001b[0m \u001b[0mcolx\u001b[0m\u001b[0;34m,\u001b[0m \u001b[0;32mNone\u001b[0m\u001b[0;34m,\u001b[0m \u001b[0md\u001b[0m\u001b[0;34m,\u001b[0m \u001b[0mxf_index\u001b[0m\u001b[0;34m)\u001b[0m\u001b[0;34m\u001b[0m\u001b[0m\n\u001b[0m\u001b[1;32m    854\u001b[0m             \u001b[0;32melif\u001b[0m \u001b[0mrc\u001b[0m \u001b[0;34m==\u001b[0m \u001b[0mXL_ROW\u001b[0m\u001b[0;34m:\u001b[0m\u001b[0;34m\u001b[0m\u001b[0m\n\u001b[1;32m    855\u001b[0m                 \u001b[0;31m# Version 0.6.0a3: ROW records are just not worth using (for memory allocation).\u001b[0m\u001b[0;34m\u001b[0m\u001b[0;34m\u001b[0m\u001b[0m\n",
      "\u001b[0;32m~/anaconda3/lib/python3.6/site-packages/xlrd/sheet.py\u001b[0m in \u001b[0;36mput_cell_unragged\u001b[0;34m(self, rowx, colx, ctype, value, xf_index)\u001b[0m\n\u001b[1;32m    697\u001b[0m         \u001b[0;32mtry\u001b[0m\u001b[0;34m:\u001b[0m\u001b[0;34m\u001b[0m\u001b[0m\n\u001b[1;32m    698\u001b[0m             \u001b[0mself\u001b[0m\u001b[0;34m.\u001b[0m\u001b[0m_cell_types\u001b[0m\u001b[0;34m[\u001b[0m\u001b[0mrowx\u001b[0m\u001b[0;34m]\u001b[0m\u001b[0;34m[\u001b[0m\u001b[0mcolx\u001b[0m\u001b[0;34m]\u001b[0m \u001b[0;34m=\u001b[0m \u001b[0mctype\u001b[0m\u001b[0;34m\u001b[0m\u001b[0m\n\u001b[0;32m--> 699\u001b[0;31m             \u001b[0mself\u001b[0m\u001b[0;34m.\u001b[0m\u001b[0m_cell_values\u001b[0m\u001b[0;34m[\u001b[0m\u001b[0mrowx\u001b[0m\u001b[0;34m]\u001b[0m\u001b[0;34m[\u001b[0m\u001b[0mcolx\u001b[0m\u001b[0;34m]\u001b[0m \u001b[0;34m=\u001b[0m \u001b[0mvalue\u001b[0m\u001b[0;34m\u001b[0m\u001b[0m\n\u001b[0m\u001b[1;32m    700\u001b[0m             \u001b[0;32mif\u001b[0m \u001b[0mself\u001b[0m\u001b[0;34m.\u001b[0m\u001b[0mformatting_info\u001b[0m\u001b[0;34m:\u001b[0m\u001b[0;34m\u001b[0m\u001b[0m\n\u001b[1;32m    701\u001b[0m                 \u001b[0mself\u001b[0m\u001b[0;34m.\u001b[0m\u001b[0m_cell_xf_indexes\u001b[0m\u001b[0;34m[\u001b[0m\u001b[0mrowx\u001b[0m\u001b[0;34m]\u001b[0m\u001b[0;34m[\u001b[0m\u001b[0mcolx\u001b[0m\u001b[0;34m]\u001b[0m \u001b[0;34m=\u001b[0m \u001b[0mxf_index\u001b[0m\u001b[0;34m\u001b[0m\u001b[0m\n",
      "\u001b[0;31mKeyboardInterrupt\u001b[0m: "
     ]
    }
   ],
   "source": [
    "#load data\n",
    "df1 = pd.read_excel('jester-data-1.xls', names=col)\n",
    "df2 = pd.read_excel('jester-data-2.xls', names = col)\n",
    "df3 = pd.read_excel('jester-data-3.xls', names = col)"
   ]
  },
  {
   "cell_type": "code",
   "execution_count": null,
   "metadata": {},
   "outputs": [],
   "source": [
    "#Display some values \n",
    "df1.head()"
   ]
  },
  {
   "cell_type": "code",
   "execution_count": null,
   "metadata": {
    "collapsed": true
   },
   "outputs": [],
   "source": [
    "#Drop axis with #of jokes since we don't need it\n",
    "df1 = df1.drop([0], axis=1)\n",
    "df2 = df2.drop([0], axis=1)\n",
    "df3 = df3.drop([0], axis=1)"
   ]
  },
  {
   "cell_type": "code",
   "execution_count": null,
   "metadata": {
    "collapsed": true
   },
   "outputs": [],
   "source": [
    "#replace Nan Values and convert to numpy array\n",
    "df1 = df1.replace(99, np.nan)\n",
    "df2 = df2.replace(99, np.nan)\n",
    "df3 = df3.replace(99,np.nan)\n",
    "\n",
    "jokes = np.reshape(np.linspace(1,100,100) , [100,1])\n",
    "np1= np.concatenate((jokes,np.transpose(df1.values)), axis =1)\n",
    "np2 = np.concatenate((jokes,np.transpose(df2.values)), axis =1)\n",
    "np3 = np.concatenate((jokes,np.transpose(df3.values)), axis =1)\n"
   ]
  },
  {
   "cell_type": "code",
   "execution_count": null,
   "metadata": {
    "collapsed": true
   },
   "outputs": [],
   "source": [
    "#This functions converts matrix to a m rows and 3 column format. Col1 is UserID Col2 is JokeID and Col3 is the rating\n",
    "#Uncomment @jit here and in the future if you aren't using numba library to do fast computation. (NEEDS CERTAIN LIBRARIES)\n",
    "#@jit\n",
    "def prepare_data(matrix_data):\n",
    "    m = matrix_data.shape[0]  # Get number of Jokes\n",
    "    n = matrix_data.shape[1]  # Get number of Users\n",
    "    jokeids = np.reshape(matrix_data[:,0],[m,1])  # Get joke id in column format\n",
    "    ones = np.ones((m,1))    #Initialize Ones ( Will be used later)\n",
    "    data = np.ones((1,3))  # Initialize a temporary matrix\n",
    "    for i in range(1,n):  # Loop through users\n",
    "        user = i * ones  # Get user column\n",
    "        ratings = np.reshape(matrix_data[:,i] , [m,1])  #Get ratings for the user\n",
    "        temp = np.concatenate((user, jokeids,ratings), axis =1)   # Concatenate User, Jokeid and Ratings\n",
    "        data = np.concatenate((data,temp))  # Append to data matrix\n",
    "    data = np.delete(data,0,0)   # Remove first row of ones\n",
    "   \n",
    "    return data"
   ]
  },
  {
   "cell_type": "code",
   "execution_count": null,
   "metadata": {},
   "outputs": [],
   "source": [
    "#Prepare data for neural network\n",
    "startTime = time.time()\n",
    "data_new1 = prepare_data(np1)\n",
    "print(\"Execution time is \", time.time()-startTime)\n",
    "\n",
    "startTime = time.time()\n",
    "data_new2 = prepare_data(np2)\n",
    "print(\"Execution time is \", time.time()-startTime)\n",
    "\n",
    "startTime = time.time()\n",
    "data_new3 = prepare_data(np3)\n",
    "print(\"Execution time is \", time.time()-startTime)"
   ]
  },
  {
   "cell_type": "code",
   "execution_count": null,
   "metadata": {
    "collapsed": true
   },
   "outputs": [],
   "source": [
    "#Change user index to make it compatible to be used in the same data-set\n",
    "cp1 = data_new1.copy()\n",
    "max_u_l1 = data_new1[:,0].max()\n",
    "cp2 = data_new2.copy()\n",
    "cp2[:,0] = cp2[:,0]+max_u_l1\n",
    "max_u_l2 = cp2[:,0].max()\n",
    "cp3 = data_new3.copy()\n",
    "cp3[:,0] = cp3[:,0]+max_u_l2"
   ]
  },
  {
   "cell_type": "code",
   "execution_count": null,
   "metadata": {},
   "outputs": [],
   "source": [
    "#Concat and save\n",
    "full_data_nn = np.concatenate((cp1,cp2,cp3), axis=0)\n",
    "print(full_data_nn.shape)\n",
    "#np.save('fulldata_nn', full_data_nn)"
   ]
  },
  {
   "cell_type": "markdown",
   "metadata": {},
   "source": [
    "## 1. Choose data-set size, and take 10% of the new data-set as validation set\n",
    "## 2. Make neural network\n",
    "## 3. Train and validate on Neural Network\n",
    "## 4. Make MSE and MAE plots\n"
   ]
  },
  {
   "cell_type": "code",
   "execution_count": 4,
   "metadata": {
    "collapsed": true
   },
   "outputs": [],
   "source": [
    "#load dataset and remove NAN values for training and validation\n",
    "full_data_nn = np.load('fulldata_nn.npy')\n",
    "full_data_nn = full_data_nn[~np.isnan(full_data_nn).any(axis=1)]"
   ]
  },
  {
   "cell_type": "code",
   "execution_count": 5,
   "metadata": {},
   "outputs": [
    {
     "name": "stdout",
     "output_type": "stream",
     "text": [
      "(3308968, 3)\n"
     ]
    }
   ],
   "source": [
    "#Select dataset-size and perform training and testing with that\n",
    "m = full_data_nn.shape[0]\n",
    "d_size = 0.8  #Dataset size is selected here\n",
    "indx = math.floor(m*d_size)\n",
    "full_data_nn = full_data_nn[0:indx,:]\n",
    "print(full_data_nn.shape)"
   ]
  },
  {
   "cell_type": "code",
   "execution_count": 6,
   "metadata": {
    "collapsed": true
   },
   "outputs": [],
   "source": [
    "#Initialize matrix and use it as the truncated dataset \n",
    "temp = np.copy(full_data_nn)"
   ]
  },
  {
   "cell_type": "code",
   "execution_count": 7,
   "metadata": {
    "collapsed": true
   },
   "outputs": [],
   "source": [
    "np.random.shuffle(temp)    # Shuffle data"
   ]
  },
  {
   "cell_type": "code",
   "execution_count": 8,
   "metadata": {
    "collapsed": true
   },
   "outputs": [],
   "source": [
    "#split into train test data\n",
    "val_size = 0.1 #Define validation set size\n",
    "X = temp[:,0:2]   #Get user and joke id\n",
    "Y = temp[:,2]   # Get Ratings\n",
    "m1 = Y.shape[0]\n",
    "Y = np.reshape(Y , [-1,1])\n",
    "Y = np.reshape(Y,[m1,1])\n",
    "X_train, X_test, Y_train, Y_test = train_test_split(X,Y, test_size = val_size, shuffle = True)    #Split Data\n",
    "Users = X_train[:,0]\n",
    "Jokes = X_train[:,1]"
   ]
  },
  {
   "cell_type": "code",
   "execution_count": 9,
   "metadata": {
    "collapsed": true
   },
   "outputs": [],
   "source": [
    "#Define Keras Model\n",
    "def build_model(n_users,k_factors,m_items):\n",
    "    Joke_input = keras.layers.Input(shape=[1],name='Item')\n",
    "    Joke_embedding = keras.layers.Embedding(m_items + 1, k_factors, name='Joke-Embedding')(Joke_input)\n",
    "    Joke_vec = keras.layers.Flatten(name='FlattenJokes')(Joke_embedding)\n",
    "    \n",
    "    user_input = keras.layers.Input(shape=[1],name='User')\n",
    "    user_vec = keras.layers.Flatten(name='FlattenUsers')(keras.layers.Embedding(n_users + 1, k_factors,name='User-Embedding')(user_input))\n",
    "   \n",
    "    prod = keras.layers.Dot(axes=1)([Joke_vec,user_vec])\n",
    "    l1 = keras.layers.Dense(activation='sigmoid',units= 20)(prod)\n",
    "    l2 = keras.layers.Dense(activation='relu',units = 30)(l1)\n",
    "    l3 = keras.layers.Dense(activation='linear',units=1)(l1)\n",
    "    model = keras.Model([user_input, Joke_input], l3)\n",
    "    adam = k.optimizers.adamax(lr=0.01)\n",
    "    model.compile(adam, 'mean_squared_error', metrics=['mae'])\n",
    "    model.summary()\n",
    "    \n",
    "   \n",
    "    return model"
   ]
  },
  {
   "cell_type": "code",
   "execution_count": 10,
   "metadata": {},
   "outputs": [
    {
     "name": "stdout",
     "output_type": "stream",
     "text": [
      "__________________________________________________________________________________________________\n",
      "Layer (type)                    Output Shape         Param #     Connected to                     \n",
      "==================================================================================================\n",
      "Item (InputLayer)               (None, 1)            0                                            \n",
      "__________________________________________________________________________________________________\n",
      "User (InputLayer)               (None, 1)            0                                            \n",
      "__________________________________________________________________________________________________\n",
      "Joke-Embedding (Embedding)      (None, 1, 1000)      101000      Item[0][0]                       \n",
      "__________________________________________________________________________________________________\n",
      "User-Embedding (Embedding)      (None, 1, 1000)      45592000    User[0][0]                       \n",
      "__________________________________________________________________________________________________\n",
      "FlattenJokes (Flatten)          (None, 1000)         0           Joke-Embedding[0][0]             \n",
      "__________________________________________________________________________________________________\n",
      "FlattenUsers (Flatten)          (None, 1000)         0           User-Embedding[0][0]             \n",
      "__________________________________________________________________________________________________\n",
      "dot_1 (Dot)                     (None, 1)            0           FlattenJokes[0][0]               \n",
      "                                                                 FlattenUsers[0][0]               \n",
      "__________________________________________________________________________________________________\n",
      "dense_1 (Dense)                 (None, 20)           40          dot_1[0][0]                      \n",
      "__________________________________________________________________________________________________\n",
      "dense_3 (Dense)                 (None, 1)            21          dense_1[0][0]                    \n",
      "==================================================================================================\n",
      "Total params: 45,693,061\n",
      "Trainable params: 45,693,061\n",
      "Non-trainable params: 0\n",
      "__________________________________________________________________________________________________\n",
      "Number of unique jokes is  100\n",
      "Number of unique Users is  45591\n",
      "(2978071, 1)\n"
     ]
    }
   ],
   "source": [
    "latent_features = 1000\n",
    "m = Users.shape[0]\n",
    "Users = np.reshape(Users, [m,1])\n",
    "Jokes = np.reshape(Jokes,[m,1])\n",
    "n_users = (np.unique(Users)).shape[0]\n",
    "n_jokes = (np.unique(Jokes)).shape[0]\n",
    "model = build_model(n_users,latent_features,n_jokes)\n",
    "print(\"Number of unique jokes is \",n_jokes)\n",
    "print(\"Number of unique Users is \",n_users)\n",
    "print(Users.shape)"
   ]
  },
  {
   "cell_type": "code",
   "execution_count": 11,
   "metadata": {},
   "outputs": [
    {
     "name": "stdout",
     "output_type": "stream",
     "text": [
      "Train on 2978071 samples, validate on 330897 samples\n",
      "Epoch 1/30\n",
      "2978071/2978071 [==============================] - 24s 8us/step - loss: 25.4065 - mean_absolute_error: 4.1839 - val_loss: 20.0445 - val_mean_absolute_error: 3.6460\n",
      "Epoch 2/30\n",
      "2978071/2978071 [==============================] - 6s 2us/step - loss: 17.7286 - mean_absolute_error: 3.3719 - val_loss: 17.2737 - val_mean_absolute_error: 3.2987\n",
      "Epoch 3/30\n",
      "2978071/2978071 [==============================] - 6s 2us/step - loss: 12.8887 - mean_absolute_error: 2.7829 - val_loss: 16.4613 - val_mean_absolute_error: 3.1471\n",
      "Epoch 4/30\n",
      "2978071/2978071 [==============================] - 6s 2us/step - loss: 5.7081 - mean_absolute_error: 1.7778 - val_loss: 16.9259 - val_mean_absolute_error: 3.1870\n",
      "Epoch 5/30\n",
      "2978071/2978071 [==============================] - 6s 2us/step - loss: 1.9076 - mean_absolute_error: 1.0344 - val_loss: 16.7674 - val_mean_absolute_error: 3.1539\n",
      "Epoch 6/30\n",
      "2978071/2978071 [==============================] - 6s 2us/step - loss: 0.8665 - mean_absolute_error: 0.6659 - val_loss: 16.8313 - val_mean_absolute_error: 3.1657\n",
      "Epoch 7/30\n",
      "2978071/2978071 [==============================] - 6s 2us/step - loss: 0.5087 - mean_absolute_error: 0.4861 - val_loss: 16.8191 - val_mean_absolute_error: 3.1537\n",
      "Restoring model weights from the end of the best epoch\n",
      "Epoch 00007: early stopping\n"
     ]
    }
   ],
   "source": [
    "#Fit data ( Train Model)\n",
    "n_epochs = 30\n",
    "batchsize = 50000\n",
    "es =keras.callbacks.EarlyStopping(monitor='val_mean_absolute_error', min_delta=0, patience=4,verbose=1, restore_best_weights=True)\n",
    "history = model.fit([Users, Jokes], Y_train, batch_size= batchsize, validation_data=([X_test[:,0],X_test[:,1]],Y_test),epochs=n_epochs,callbacks=[es])\n"
   ]
  },
  {
   "cell_type": "code",
   "execution_count": 12,
   "metadata": {
    "collapsed": true
   },
   "outputs": [],
   "source": [
    "model.save('Model-splitsize{}'.format(val_size))"
   ]
  },
  {
   "cell_type": "code",
   "execution_count": 13,
   "metadata": {},
   "outputs": [
    {
     "data": {
      "image/png": "[encoded data removed]",
      "text/plain": [
       "<matplotlib.figure.Figure at 0x7f81c1e8cba8>"
      ]
     },
     "metadata": {},
     "output_type": "display_data"
    }
   ],
   "source": [
    "# summarize history for loss\n",
    "plt.plot(history.history['loss'])\n",
    "plt.plot(history.history['val_loss'])\n",
    "plt.title('model loss')\n",
    "plt.ylabel('loss')\n",
    "plt.xlabel('epoch')\n",
    "plt.legend(['train', 'test'], loc='upper left')\n",
    "plt.show()\n"
   ]
  },
  {
   "cell_type": "code",
   "execution_count": 14,
   "metadata": {},
   "outputs": [
    {
     "data": {
      "image/png": "[encoded data removed]",
      "text/plain": [
       "<matplotlib.figure.Figure at 0x7f81b81e7d68>"
      ]
     },
     "metadata": {},
     "output_type": "display_data"
    }
   ],
   "source": [
    "# summarize history for loss\n",
    "plt.plot(history.history['mean_absolute_error'])\n",
    "plt.plot(history.history['val_mean_absolute_error'])\n",
    "plt.title('model Mae')\n",
    "plt.ylabel('MAE')\n",
    "plt.xlabel('epoch')\n",
    "plt.legend(['train', 'test'], loc='upper left')\n",
    "plt.show()\n"
   ]
  },
  {
   "cell_type": "markdown",
   "metadata": {},
   "source": [
    "# 1. Make Predictions for all Unique JokeID and UserID pairings\n",
    "# 2. Sort all predictions based on Ratings to return a matrix where Rows correspond to user and columns to Ordering of JokeID, where the leftmost one is the most desirable by the user"
   ]
  },
  {
   "cell_type": "code",
   "execution_count": 15,
   "metadata": {},
   "outputs": [],
   "source": [
    "#Get unique users and Jokes\n",
    "Users = np.unique(X[:,0]) \n",
    "JokeID = np.reshape(np.unique(X[:,1]), [-1,1])"
   ]
  },
  {
   "cell_type": "code",
   "execution_count": 17,
   "metadata": {
    "collapsed": true
   },
   "outputs": [],
   "source": [
    "#Uncomment @jit here and in the future if you aren't using numba library to do fast computation. (NEEDS CERTAIN LIBRARIES)\n",
    "#@jit\n",
    "#Create prediction matrix for all possible values\n",
    "#@jit\n",
    "def create_pred_matrix(X1,X2):\n",
    "    m = X2.shape[0]  #Get number of unique jokes\n",
    "    initialized_matrix = np.ones((1,2))  #initialize a matrix to store user-joke pairing \n",
    "    startTime = time.time()\n",
    "    for idx,i in enumerate(X1):   #Iterate through users\n",
    "        user_id = np.ones((m,1))*i\n",
    "        if idx %5000 ==0:\n",
    "            print(\"Execution time is \", time.time()-startTime)\n",
    "            startTime = time.time()\n",
    "        appended_matrix = np.concatenate((user_id,X2), axis =1)\n",
    "        initialized_matrix = np.concatenate((initialized_matrix,appended_matrix))  \n",
    "    return initialized_matrix\n",
    "\n",
    "\n"
   ]
  },
  {
   "cell_type": "code",
   "execution_count": 18,
   "metadata": {},
   "outputs": [
    {
     "name": "stdout",
     "output_type": "stream",
     "text": [
      "Execution time is  3.0040740966796875e-05\n",
      "Execution time is  1.7294895648956299\n",
      "Execution time is  5.999746084213257\n",
      "Execution time is  12.86171293258667\n",
      "Execution time is  26.326224327087402\n"
     ]
    },
    {
     "ename": "KeyboardInterrupt",
     "evalue": "",
     "output_type": "error",
     "traceback": [
      "\u001b[0;31m---------------------------------------------------------------------------\u001b[0m",
      "\u001b[0;31mKeyboardInterrupt\u001b[0m                         Traceback (most recent call last)",
      "\u001b[0;32m<ipython-input-18-ca4a6b90a4e7>\u001b[0m in \u001b[0;36m<module>\u001b[0;34m()\u001b[0m\n\u001b[0;32m----> 1\u001b[0;31m \u001b[0mmm\u001b[0m \u001b[0;34m=\u001b[0m \u001b[0mcreate_pred_matrix\u001b[0m\u001b[0;34m(\u001b[0m\u001b[0mUsers\u001b[0m\u001b[0;34m,\u001b[0m\u001b[0mJokeID\u001b[0m\u001b[0;34m)\u001b[0m\u001b[0;34m\u001b[0m\u001b[0m\n\u001b[0m\u001b[1;32m      2\u001b[0m \u001b[0mnp\u001b[0m\u001b[0;34m.\u001b[0m\u001b[0msave\u001b[0m\u001b[0;34m(\u001b[0m\u001b[0;34m'all_val'\u001b[0m\u001b[0;34m,\u001b[0m\u001b[0mmm\u001b[0m\u001b[0;34m)\u001b[0m\u001b[0;34m\u001b[0m\u001b[0m\n",
      "\u001b[0;32m<ipython-input-17-de6a70893bff>\u001b[0m in \u001b[0;36mcreate_pred_matrix\u001b[0;34m(X1, X2)\u001b[0m\n\u001b[1;32m     13\u001b[0m             \u001b[0mstartTime\u001b[0m \u001b[0;34m=\u001b[0m \u001b[0mtime\u001b[0m\u001b[0;34m.\u001b[0m\u001b[0mtime\u001b[0m\u001b[0;34m(\u001b[0m\u001b[0;34m)\u001b[0m\u001b[0;34m\u001b[0m\u001b[0m\n\u001b[1;32m     14\u001b[0m         \u001b[0mappended_matrix\u001b[0m \u001b[0;34m=\u001b[0m \u001b[0mnp\u001b[0m\u001b[0;34m.\u001b[0m\u001b[0mconcatenate\u001b[0m\u001b[0;34m(\u001b[0m\u001b[0;34m(\u001b[0m\u001b[0muser_id\u001b[0m\u001b[0;34m,\u001b[0m\u001b[0mX2\u001b[0m\u001b[0;34m)\u001b[0m\u001b[0;34m,\u001b[0m \u001b[0maxis\u001b[0m \u001b[0;34m=\u001b[0m\u001b[0;36m1\u001b[0m\u001b[0;34m)\u001b[0m\u001b[0;34m\u001b[0m\u001b[0m\n\u001b[0;32m---> 15\u001b[0;31m         \u001b[0minitialized_matrix\u001b[0m \u001b[0;34m=\u001b[0m \u001b[0mnp\u001b[0m\u001b[0;34m.\u001b[0m\u001b[0mconcatenate\u001b[0m\u001b[0;34m(\u001b[0m\u001b[0;34m(\u001b[0m\u001b[0minitialized_matrix\u001b[0m\u001b[0;34m,\u001b[0m\u001b[0mappended_matrix\u001b[0m\u001b[0;34m)\u001b[0m\u001b[0;34m)\u001b[0m\u001b[0;34m\u001b[0m\u001b[0m\n\u001b[0m\u001b[1;32m     16\u001b[0m     \u001b[0;32mreturn\u001b[0m \u001b[0minitialized_matrix\u001b[0m\u001b[0;34m\u001b[0m\u001b[0m\n\u001b[1;32m     17\u001b[0m \u001b[0;34m\u001b[0m\u001b[0m\n",
      "\u001b[0;31mKeyboardInterrupt\u001b[0m: "
     ]
    }
   ],
   "source": [
    "mm = create_pred_matrix(Users,JokeID)"
   ]
  },
  {
   "cell_type": "code",
   "execution_count": 20,
   "metadata": {},
   "outputs": [],
   "source": [
    "#Get all combinations and find predicted ratings\n",
    "all_combinations = mm\n",
    "#all_combinations = np.load('mm.npy')\n",
    "all_combinations = all_combinations[1:,:]"
   ]
  },
  {
   "cell_type": "code",
   "execution_count": 21,
   "metadata": {
    "collapsed": true
   },
   "outputs": [],
   "source": [
    "#Get jokes and users\n",
    "users = np.reshape(all_combinations[:,0] , [-1,1])\n",
    "jokes = np.reshape(all_combinations[:,1] , [-1,1])"
   ]
  },
  {
   "cell_type": "code",
   "execution_count": 22,
   "metadata": {
    "collapsed": true
   },
   "outputs": [],
   "source": [
    "#Get preds\n",
    "predictions = np.reshape(model.predict([users,jokes]) , [-1,1])\n",
    "np.save('predictions_neural network', predictions)"
   ]
  },
  {
   "cell_type": "code",
   "execution_count": 16,
   "metadata": {
    "collapsed": true
   },
   "outputs": [],
   "source": [
    "all_preds = np.concatenate((users,jokes,predictions), axis=1)"
   ]
  },
  {
   "cell_type": "code",
   "execution_count": 17,
   "metadata": {
    "collapsed": true
   },
   "outputs": [],
   "source": [
    "#Return matrix with sorted ratings\n",
    "def get_top_ratings_user(userid,tot_preds):\n",
    "    user_vals = tot_preds[tot_preds[:,0]==userid]\n",
    "    user_vals=user_vals[user_vals[:,2].argsort(kind='mergesort')]\n",
    "    joke_id = user_vals[:,1]\n",
    "    return np.flip(joke_id)\n",
    "    "
   ]
  },
  {
   "cell_type": "code",
   "execution_count": 18,
   "metadata": {
    "collapsed": true
   },
   "outputs": [],
   "source": [
    "#Get Jokes from highest rating to lowest rating for user\n",
    "user = 1\n",
    "u_p = get_top_ratings_user(user,all_preds)"
   ]
  },
  {
   "cell_type": "code",
   "execution_count": 19,
   "metadata": {},
   "outputs": [
    {
     "data": {
      "text/plain": [
       "array([[4.8363056]], dtype=float32)"
      ]
     },
     "execution_count": 19,
     "metadata": {},
     "output_type": "execute_result"
    }
   ],
   "source": [
    "#To make manual predictions fill in UserID and JokeID to get rating\n",
    "userid = 1\n",
    "jokeid = 3\n",
    "model.predict([[userid],[jokeid]])"
   ]
  },
  {
   "cell_type": "code",
   "execution_count": 22,
   "metadata": {
    "collapsed": true
   },
   "outputs": [],
   "source": [
    "#Input unique users and all_preds\n",
    "#Returns matrix where each row corresponds to user and col values contact joke id ranked highest to lowest left to right\n",
    "def get_joke_user_matrix(users,tot_preds):\n",
    "    matrix_1 = np.ones((1,100))\n",
    "    startTime = time.time()\n",
    "    for idx,i in enumerate(users):\n",
    "        if idx %5000 ==0:\n",
    "            print(\"Execution time is \", time.time()-startTime)\n",
    "            startTime = time.time()\n",
    "        u_p = np.reshape(get_top_ratings_user(i,tot_preds) , [1,-1])\n",
    "        matrix_1 = np.concatenate((matrix_1,u_p))\n",
    "    return matrix_1\n",
    "        "
   ]
  },
  {
   "cell_type": "code",
   "execution_count": 23,
   "metadata": {},
   "outputs": [
    {
     "name": "stdout",
     "output_type": "stream",
     "text": [
      "Execution time is  7.152557373046875e-06\n",
      "Execution time is  128.1476628780365\n",
      "Execution time is  137.23221111297607\n",
      "Execution time is  143.36028695106506\n",
      "Execution time is  139.75454878807068\n",
      "Execution time is  141.73099303245544\n",
      "Execution time is  146.36877298355103\n",
      "Execution time is  155.34220457077026\n",
      "Execution time is  156.92802476882935\n",
      "Execution time is  215.36562180519104\n"
     ]
    }
   ],
   "source": [
    "#THIS MATRIX CONTAINS JOKE ORDERING FOR EACH USER WHERE THE LEFTMOST ONE IS THE MOST DESIRABLE ONE\n",
    "get_matrix = get_joke_user_matrix(np.unique(users),all_preds)\n",
    "get_matrix = get_matrix[1:,:]"
   ]
  },
  {
   "cell_type": "code",
   "execution_count": 26,
   "metadata": {
    "collapsed": true
   },
   "outputs": [],
   "source": [
    "#Each row corresponds to user and each column to ordering of joke id\n",
    "get_matrix = get_matrix[1:,:]\n",
    "np.save('UserJokeRatings-splitsize{}'.format(val_size), get_matrix)"
   ]
  },
  {
   "cell_type": "code",
   "execution_count": 28,
   "metadata": {},
   "outputs": [
    {
     "data": {
      "text/plain": [
       "array([ 43.,  80.,  56.,   3.,  85.,  15.,  22.,   8.,  50.,  32.,  93.,\n",
       "        97.,  60.,  44.,  35.,  25.,  29.,  88.,  19.,  23.,  82.,  26.,\n",
       "        86.,  94.,  36.,  27.,  18., 100.,  62.,  10.,  21.,   2.,  55.,\n",
       "        91.,  95.,  17.,  96.,  31.,  77.,  46.,   6.,  87.,  74.,  63.,\n",
       "        90.,  73.,  99.,  13.,  72.,  34.,  11.,  39.,  59.,  64.,  54.,\n",
       "        83.,  28.,  75.,  89.,  12.,  65.,  69.,   1.,  53.,  51.,  84.,\n",
       "        81.,  45.,  33.,  61.,  37.,  76.,  92.,   9.,  30.,  78.,  40.,\n",
       "        70.,  20.,   5.,  47.,  52.,  24.,  42.,  49.,  38.,   4.,  14.,\n",
       "         7.,  41.,  16.,  68.,  98.,  57.,  67.,  71.,  58.,  66.,  79.,\n",
       "        48.])"
      ]
     },
     "execution_count": 28,
     "metadata": {},
     "output_type": "execute_result"
    }
   ],
   "source": [
    "#Get Users joke recommendation ordering based on userid\n",
    "Userid = 5\n",
    "get_matrix[Userid-1,:]"
   ]
  },
  {
   "cell_type": "code",
   "execution_count": 30,
   "metadata": {
    "collapsed": true
   },
   "outputs": [],
   "source": [
    "#Load jokeTextDataset and display top n jokes for the user\n",
    "joke_text = pd.read_csv('JokeText.csv')"
   ]
  },
  {
   "cell_type": "code",
   "execution_count": 56,
   "metadata": {
    "collapsed": true
   },
   "outputs": [],
   "source": [
    "# n_jokes has to be less than 100\n",
    "def display_top_n(Userid,user_joke_matrix,joke_text,n_jokes):\n",
    "    user_pref = user_joke_matrix[Userid-1,:]\n",
    "    jokes = user_pref[0:n_jokes]\n",
    "    jokes = jokes -1\n",
    "    for i in list(joke_text.iloc[jokes,:].JokeText):\n",
    "        print(i)\n",
    "        print(\"-------------------------------------\")\n"
   ]
  },
  {
   "cell_type": "code",
   "execution_count": 57,
   "metadata": {},
   "outputs": [
    {
     "name": "stdout",
     "output_type": "stream",
     "text": [
      "Arnold Swartzeneger and Sylvester Stallone are making a movie about\n",
      "the lives of the great composers.  \n",
      "Stallone says \"I want to be Mozart.\" \n",
      "Swartzeneger says: \"In that case...  I'll be Bach.\"\n",
      "\n",
      "-------------------------------------\n",
      "Hillary, Bill Clinton and the Pope are sitting together on an airplane.\n",
      "\n",
      "Bill says \"I could throw one thousand dollar bill out of this plane and\n",
      "make one person very happy.\"\n",
      "\n",
      "Hillary says \"I could throw 10 hundred dollar bills out of the plane and\n",
      "make 10 people very happy.\"\n",
      "\n",
      "The Pope chips in and says \"I could throw Bill out of the airplane and make the whole \n",
      "country happy.\"\n",
      "\n",
      "-------------------------------------\n",
      "A man and Cindy Crawford get stranded on a desert island.  After a couple\n",
      "of days they fall in love and start sleeping together.  Time pass the\n",
      "man seems frustrated, Cindy asks if there is anything she can do?  He\n",
      "says there is one thing, \"Could you put on this baseball cap and go to\n",
      "the other side of the island and answer me when I call you Bob?\"  She\n",
      "agrees.  Next day he is walking on the other side of the island, runs\n",
      "into her and says \"Hi Bob!\"  \n",
      "She says \"Hello, what's up?\"  \n",
      "He replies: \"Bob you won't believe it: I've been sleeping with Cindy\n",
      "Crawford for the past two weeks!!!!\"\n",
      "\n",
      "-------------------------------------\n",
      "Q. What's 200 feet long and has 4 teeth? \n",
      "\n",
      "A. The front row at a Willie Nelson Concert.\n",
      "\n",
      "-------------------------------------\n",
      "Q: How many Presidents does it take to screw in a light bulb?\n",
      "\n",
      "A: It depends upon your definition of screwing a light bulb.\n",
      "\n",
      "-------------------------------------\n"
     ]
    }
   ],
   "source": [
    "UserID = 5\n",
    "n_jokes = 5\n",
    "display_top_n(UserID,get_matrix,joke_text,n_jokes)"
   ]
  },
  {
   "cell_type": "code",
   "execution_count": null,
   "metadata": {
    "collapsed": true
   },
   "outputs": [],
   "source": []
  },
  {
   "cell_type": "code",
   "execution_count": null,
   "metadata": {
    "collapsed": true
   },
   "outputs": [],
   "source": []
  }
 ],
 "metadata": {
  "kernelspec": {
   "display_name": "Python 3",
   "language": "python",
   "name": "python3"
  },
  "language_info": {
   "codemirror_mode": {
    "name": "ipython",
    "version": 3
   },
   "file_extension": ".py",
   "mimetype": "text/x-python",
   "name": "python",
   "nbconvert_exporter": "python",
   "pygments_lexer": "ipython3",
   "version": "3.6.3"
  }
 },
 "nbformat": 4,
 "nbformat_minor": 2
}
