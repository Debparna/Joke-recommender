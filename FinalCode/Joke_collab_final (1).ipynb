{
 "cells": [
  {
   "cell_type": "markdown",
   "metadata": {},
   "source": [
    "# Objective \n",
    "## 1. Build User-User collab Filtering\n",
    "## 2. build item-item collab filtering\n",
    "## 3. Add functunality to choose data-set size and perform collaborative filtering on that dataset\n",
    "## 4. Build matrix Ordered according to preference of user "
   ]
  },
  {
   "cell_type": "code",
   "execution_count": 1,
   "metadata": {
    "collapsed": true
   },
   "outputs": [],
   "source": [
    "#Import Libraries\n",
    "import pandas as pd \n",
    "import numpy as np\n",
    "from sklearn.model_selection import train_test_split\n",
    "from sklearn.metrics.pairwise import pairwise_distances \n",
    "import math\n",
    "from numba import jit\n",
    "from datetime import datetime\n",
    "import time "
   ]
  },
  {
   "cell_type": "code",
   "execution_count": 2,
   "metadata": {
    "collapsed": true
   },
   "outputs": [],
   "source": [
    "#Used at the very end for getting Joke recommendation ordering for a user\n",
    "@jit\n",
    "def prepare_data(matrix_data):\n",
    "    m = matrix_data.shape[0]  # Get number of Jokes\n",
    "    n = matrix_data.shape[1]  # Get number of Users\n",
    "    jokeids = np.reshape(matrix_data[:,0],[m,1])  # Get joke id in column format\n",
    "    ones = np.ones((m,1))    #Initialize Ones ( Will be used later)\n",
    "    data = np.ones((1,3))  # Initialize a temporary matrix\n",
    "    for i in range(1,n):  # Loop through users\n",
    "        user = i * ones  # Get user column\n",
    "        ratings = np.reshape(matrix_data[:,i] , [m,1])  #Get ratings for the user\n",
    "        temp = np.concatenate((user, jokeids,ratings), axis =1)   # Concatenate User, Jokeid and Ratings\n",
    "        data = np.concatenate((data,temp))  # Append to data matrix\n",
    "    data = np.delete(data,0,0)   # Remove first row of ones\n",
    "   \n",
    "    return data"
   ]
  },
  {
   "cell_type": "markdown",
   "metadata": {},
   "source": [
    "### Part 1 \n",
    "- Load Data \n",
    "- Choose data set size\n",
    "- Remove NaN values\n",
    "- Split data into train/test"
   ]
  },
  {
   "cell_type": "code",
   "execution_count": 3,
   "metadata": {
    "collapsed": true
   },
   "outputs": [],
   "source": [
    "#Load data-\n",
    "df1 = np.load('fulldata_nn.npy')"
   ]
  },
  {
   "cell_type": "code",
   "execution_count": 4,
   "metadata": {
    "collapsed": true
   },
   "outputs": [],
   "source": [
    "#Remove NAN valued rows\n",
    "df1 =  df1[~np.isnan(df1).any(axis=1)] "
   ]
  },
  {
   "cell_type": "code",
   "execution_count": 5,
   "metadata": {
    "collapsed": true
   },
   "outputs": [],
   "source": [
    "#Select Dataset size\n",
    "m = df1.shape[0]\n",
    "dataset_size = 0.5\n",
    "indx = math.floor(dataset_size*m)\n",
    "df1 = df1[0:indx,:]"
   ]
  },
  {
   "cell_type": "code",
   "execution_count": 6,
   "metadata": {
    "collapsed": true
   },
   "outputs": [],
   "source": [
    "#Shuffle data-set\n",
    "np.random.shuffle(df1)"
   ]
  },
  {
   "cell_type": "code",
   "execution_count": 7,
   "metadata": {
    "collapsed": true
   },
   "outputs": [],
   "source": [
    "#Extract User, JokeID as X and Ratings as Y\n",
    "X = df1[:,0:-1]\n",
    "Y = np.reshape(df1[:,-1] , [-1,1])\n",
    "X_train,X_test, Y_train,Y_test = train_test_split(X,Y, test_size = 0.1)\n",
    "Y_train = np.reshape(Y_train, [-1,1])\n",
    "Y_test = np.reshape(Y_test,[-1,1])"
   ]
  },
  {
   "cell_type": "code",
   "execution_count": 8,
   "metadata": {
    "collapsed": true
   },
   "outputs": [],
   "source": [
    "#Convert to a matrix form \n",
    "@jit\n",
    "def convert_to_matrix_1(dataset):\n",
    "    #Find number of user and jokes\n",
    "    n_users_base = np.unique(dataset[:,0]).shape[0]\n",
    "    n_jokes_base = np.unique(dataset[:,1]).shape[0]\n",
    "    #Initialize New matrix\n",
    "    train_matrix = np.zeros((n_users_base, n_jokes_base))\n",
    "    print(train_matrix.shape)\n",
    "    for i in range(dataset.shape[0]):\n",
    "        user = (dataset[i,0]-1).astype(int)\n",
    "        joke = (dataset[i,1]-1).astype(int)\n",
    "        rating = dataset[i,2]\n",
    "        train_matrix[user,joke]=rating\n",
    "    return train_matrix\n",
    "    "
   ]
  },
  {
   "cell_type": "code",
   "execution_count": 9,
   "metadata": {
    "collapsed": true
   },
   "outputs": [],
   "source": [
    "#initialize\n",
    "trainset = np.concatenate((X_train,Y_train), axis =1)\n",
    "testset = np.concatenate((X_test,Y_test),axis =1 )\n"
   ]
  },
  {
   "cell_type": "code",
   "execution_count": 10,
   "metadata": {},
   "outputs": [
    {
     "name": "stdout",
     "output_type": "stream",
     "text": [
      "(28556, 100)\n"
     ]
    }
   ],
   "source": [
    "#Convert train set to matrix\n",
    "train_matrix = convert_to_matrix_1(trainset)"
   ]
  },
  {
   "cell_type": "code",
   "execution_count": 11,
   "metadata": {},
   "outputs": [
    {
     "name": "stdout",
     "output_type": "stream",
     "text": [
      "Sparsity =  994306\n"
     ]
    }
   ],
   "source": [
    "#Get sparisity\n",
    "zero_rating = (trainset[:,2]==0).sum()\n",
    "sparsity = (train_matrix==0).sum()-zero_rating\n",
    "print(\"Sparsity = \",sparsity)"
   ]
  },
  {
   "cell_type": "code",
   "execution_count": 12,
   "metadata": {},
   "outputs": [
    {
     "name": "stdout",
     "output_type": "stream",
     "text": [
      "Total True value =  1861294\n"
     ]
    }
   ],
   "source": [
    "tot_values = train_matrix.shape[0]*train_matrix.shape[1]\n",
    "print(\"Total True value = \",tot_values-sparsity)"
   ]
  },
  {
   "cell_type": "code",
   "execution_count": 13,
   "metadata": {
    "collapsed": true
   },
   "outputs": [],
   "source": [
    "#Create copy\n",
    "data = np.copy(train_matrix)"
   ]
  },
  {
   "cell_type": "code",
   "execution_count": 14,
   "metadata": {
    "collapsed": true
   },
   "outputs": [],
   "source": [
    "del df1,m, X,Y, train_matrix"
   ]
  },
  {
   "cell_type": "markdown",
   "metadata": {},
   "source": [
    "### Run User-User Collaborative filtering\n",
    "- Distance metric = Pearson Correlation( Cosine is used, but predictor centers the values by subtracting mean, hence pearson correlation)\n",
    "- n_similar is set to 300, this metric can be changed"
   ]
  },
  {
   "cell_type": "code",
   "execution_count": 15,
   "metadata": {
    "collapsed": true
   },
   "outputs": [],
   "source": [
    "#Find user-user similarity \n",
    "user_similarity = pairwise_distances(data, metric='cosine')"
   ]
  },
  {
   "cell_type": "code",
   "execution_count": 16,
   "metadata": {
    "collapsed": true
   },
   "outputs": [],
   "source": [
    "#Predict user - user using top30\n",
    "@jit\n",
    "def predict_user_user(train_matrix, user_similarity, n_similar=30):\n",
    "    similar_n = user_similarity.argsort()[:,-n_similar:][:,::-1]\n",
    "    n_users_base = train_matrix.shape[0]\n",
    "    n_items_base = train_matrix.shape[1]\n",
    "    pred = np.zeros((n_users_base,n_items_base))\n",
    "    \n",
    "    for i,users in enumerate(similar_n):\n",
    "        similar_users_indexes = users\n",
    "        similarity_n = user_similarity[i,similar_users_indexes]\n",
    "        matrix_n = train_matrix[similar_users_indexes,:]\n",
    "            \n",
    "        rated_items = similarity_n[:,np.newaxis].T.dot(matrix_n - matrix_n.mean(axis=1)[:,np.newaxis])/ similarity_n.sum()\n",
    "        pred[i,:]  = rated_items\n",
    "    return pred"
   ]
  },
  {
   "cell_type": "code",
   "execution_count": 17,
   "metadata": {},
   "outputs": [
    {
     "name": "stdout",
     "output_type": "stream",
     "text": [
      "Execution time is  79.18859624862671\n"
     ]
    }
   ],
   "source": [
    "#Use top 50 and then add average rating, which was used to normalize in predict_user_user\n",
    "n_similar = 300\n",
    "startTime = time.time()\n",
    "predictions = predict_user_user(data,user_similarity, n_similar) + data.mean(axis=1)[:, np.newaxis]\n",
    "print(\"Execution time is \", time.time()-startTime)"
   ]
  },
  {
   "cell_type": "code",
   "execution_count": 18,
   "metadata": {
    "collapsed": true
   },
   "outputs": [],
   "source": [
    "#This saves all predictions into a numpy matrix, each row is a user, and every column is the rating for that JokeID\n",
    "np.save('user-user-predictions', predictions)"
   ]
  },
  {
   "cell_type": "code",
   "execution_count": 19,
   "metadata": {
    "collapsed": true
   },
   "outputs": [],
   "source": [
    "def get_highest_lowest_joke(predictions):\n",
    "    m = predictions.shape[0]\n",
    "    n = predictions.shape[1]\n",
    "    matrix_joke = np.ones((1,n))\n",
    "    for i in range(m):\n",
    "        desc = np.reshape(np.flip(np.argsort(predictions[i,:])) , [1,-1])\n",
    "        matrix_joke = np.concatenate((matrix_joke,desc))\n",
    "    return matrix_joke\n"
   ]
  },
  {
   "cell_type": "code",
   "execution_count": 20,
   "metadata": {
    "collapsed": true
   },
   "outputs": [],
   "source": [
    "#Get test predictions\n",
    "#Load jokeTextDataset and display top n jokes for the user\n",
    "joke_text = pd.read_csv('JokeText.csv')\n",
    "def get_test_preds(preds, testval):\n",
    "    m = testval.shape[0]\n",
    "    test_preds = np.empty((m,1))\n",
    "    for i in range(m):\n",
    "        user = int(testval[i,0]-1)\n",
    "        jokeid = int(testval[i,1]-1)\n",
    "        rating = preds[user,jokeid]\n",
    "        test_preds[i,0] = rating\n",
    "    return test_preds\n",
    "        "
   ]
  },
  {
   "cell_type": "code",
   "execution_count": 21,
   "metadata": {
    "collapsed": true
   },
   "outputs": [],
   "source": [
    "# n_jokes has to be less than 100\n",
    "def display_top_n(Userid,user_joke_matrix,joke_text,n_jokes):\n",
    "    user_pref = user_joke_matrix[Userid-1,:]\n",
    "    jokes = user_pref[0:n_jokes]\n",
    "    jokes = jokes -1\n",
    "    for i in list(joke_text.iloc[jokes,:].JokeText):\n",
    "        print(i)\n",
    "        print(\"-------------------------------------\")\n"
   ]
  },
  {
   "cell_type": "code",
   "execution_count": 22,
   "metadata": {},
   "outputs": [
    {
     "name": "stdout",
     "output_type": "stream",
     "text": [
      "4.206234887321716\n"
     ]
    }
   ],
   "source": [
    "#Get test preds\n",
    "test_preds = get_test_preds(predictions,testset)\n",
    "#Find error in each predictions\n",
    "e = np.abs(np.subtract(test_preds, np.reshape(testset[:,2], [-1,1])))\n",
    "#Find average error\n",
    "tot = e.shape[0] * e.shape[1]\n",
    "print((e.sum().sum())/tot)"
   ]
  },
  {
   "cell_type": "code",
   "execution_count": 23,
   "metadata": {
    "collapsed": true
   },
   "outputs": [],
   "source": [
    "#Arrange joke from highest desirable to lowest desirable/user\n",
    "rated_joke_user = get_highest_lowest_joke(predictions)"
   ]
  },
  {
   "cell_type": "code",
   "execution_count": 24,
   "metadata": {
    "collapsed": true
   },
   "outputs": [],
   "source": [
    "#Save user-user matrix with highest desirable to lowest desirable\n",
    "np.save(\"user-user-cf-sorted\", rated_joke_user)"
   ]
  },
  {
   "cell_type": "code",
   "execution_count": 32,
   "metadata": {},
   "outputs": [
    {
     "name": "stdout",
     "output_type": "stream",
     "text": [
      "There once was a man and a woman that both  got in  a terrible car wreck. Both of their vehicles  \n",
      "were completely destroyed, buy fortunately, no one  was   hurt.  In thankfulness, the woman said to the \n",
      "man, 'We are both okay, so we should celebrate. I have   a  bottle of wine in my car, let's open it.'         \n",
      "So the woman got the bottleout of the car, and  handed it to the man. The man took a really big drink, \n",
      "and handed the woman the bottle. The  woman  closed the bottle and put it down. The man  asked,  \n",
      "'Aren't you going to take a drink?' \n",
      "\n",
      "The woman cleverly replied, \n",
      "'No, I think I'll  just  wait for the cops to get here.'\n",
      "\n",
      "-------------------------------------\n",
      "Q: What's the difference between the government  and  the Mafia?\n",
      "\n",
      "A: One of them is organized.\n",
      "\n",
      "-------------------------------------\n",
      "On the first day of college, the Dean addressed the students,\n",
      "pointing out some of the rules:\n",
      "\n",
      "\"The female dormitory will be out-of-bounds for all male students\n",
      "and the male dormitory to the female students. Anybody caught breaking\n",
      "this rule will be finded $20 the first time.\" He continued, \"Anybody \n",
      "caught breaking this rule the second time will be fined $60. Being caught\n",
      "a third time will cost you a fine of $180. Are there any questions ?\"\n",
      "\n",
      "At this point, a male student in the crowd inquired:\n",
      "\"How much for a season pass ?\"\n",
      "\n",
      "-------------------------------------\n",
      "If pro- is the opposite of con- then congress must be the opposite\n",
      "of progress.\n",
      "\n",
      "-------------------------------------\n",
      "An Asian man goes into a New York CityBank to exchange 10,000 yen for\n",
      "American Currency.  The teller gives him $72.00.  The next month the\n",
      "Asian man goes into the same bank with 10,000 yen and receives $62.00.\n",
      "He asks, \"How come? Only $62.00?\" The teller says \"Fluctuations-\n",
      "Fluctuations!\"\n",
      "\n",
      "Whereupon the Asian man looks back at the teller and says \"Fluk you\n",
      "Amelicans too!\"\n",
      "\n",
      "-------------------------------------\n",
      "Q: How many stalkers does it take to change a light bulb?\n",
      "\n",
      "A: Two. One to replace the bulb, and the other to watch it day and night.\n",
      "\n",
      "-------------------------------------\n",
      "A radio conversation of a US naval \n",
      "ship with Canadian authorities ... \n",
      "\n",
      "Americans: Please divert your course 15 degrees to the North to avoid a\n",
      "collision.\n",
      "\n",
      "Canadians: Recommend you divert YOUR course 15 degrees to the South to \n",
      "avoid a collision.\n",
      "\n",
      "Americans: This is the Captain of a US Navy ship.  I say again, divert \n",
      "YOUR course.\n",
      "\n",
      "Canadians: No.  I say again, you divert YOUR course.\n",
      "\n",
      "Americans: This is the aircraft carrier USS LINCOLN, the second largest ship in the United States' Atlantic Fleet. We are accompanied by three destroyers, three cruisers and numerous support vessels. I demand that you change your course 15 degrees north, that's ONE FIVE DEGREES NORTH, or counter-measures will be undertaken to ensure the safety of this ship.\n",
      "\n",
      "Canadians: This is a lighthouse.  Your call.\n",
      "\n",
      "-------------------------------------\n",
      "Q: What is the difference between George  Washington, Richard Nixon,\n",
      "and Bill Clinton?\n",
      "\n",
      "A: Washington couldn't tell a lie, Nixon couldn't   tell the truth, and\n",
      "Clinton doesn't know the difference.\n",
      "\n",
      "-------------------------------------\n",
      "What a woman says:\n",
      "\n",
      "\"This place is a mess!  C'mon,\n",
      "You and I need to clean up,\n",
      "Your stuff is lying on the floor and\n",
      "you'll have no clothes to wear,\n",
      "if we don't do laundry right now!\"\n",
      "\n",
      "What a man hears:\n",
      "\n",
      "blah, blah, blah, blah, C'mon\n",
      "blah, blah, blah, blah, you and I\n",
      "blah, blah, blah, blah, on the floor\n",
      "blah, blah, blah, blah, no clothes\n",
      "blah, blah, blah, blah, RIGHT NOW!\n",
      "\n",
      "-------------------------------------\n",
      "Q: How many Presidents does it take to screw in a light bulb?\n",
      "\n",
      "A: It depends upon your definition of screwing a light bulb.\n",
      "\n",
      "-------------------------------------\n"
     ]
    }
   ],
   "source": [
    "#Display top n jokes\n",
    "UserID = 10\n",
    "n_jokes = 10\n",
    "display_top_n(UserID,rated_joke_user,joke_text,n_jokes)"
   ]
  },
  {
   "cell_type": "markdown",
   "metadata": {},
   "source": [
    "### Run item-item collaborative filtering\n",
    "- Distance metric = Pearson Correlation( Cosine is used, but predictor centers the values by subtracting mean, hence pearson correlation)\n",
    "- n_similar is set to 100, this metric can be changed\n"
   ]
  },
  {
   "cell_type": "code",
   "execution_count": 26,
   "metadata": {},
   "outputs": [
    {
     "data": {
      "text/plain": [
       "(100, 100)"
      ]
     },
     "execution_count": 26,
     "metadata": {},
     "output_type": "execute_result"
    }
   ],
   "source": [
    "#Item similarity\n",
    "item_similarity = pairwise_distances(data.T, metric = 'cosine')\n",
    "item_similarity.shape"
   ]
  },
  {
   "cell_type": "code",
   "execution_count": 27,
   "metadata": {
    "collapsed": true
   },
   "outputs": [],
   "source": [
    "#Define function to prediction using item-item\n",
    "@jit\n",
    "def predict_item_item(train_matrix, item_similarity, n_similar=30):\n",
    "    n_users_base = train_matrix.shape[0]\n",
    "    n_items_base = train_matrix.shape[1]\n",
    "    similar_n = item_similarity.argsort()[:,-n_similar:][:,::-1]\n",
    "    print('similar_n shape: ', similar_n.shape)\n",
    "    pred = np.zeros((n_users_base,n_items_base))\n",
    "    for i,items in enumerate(similar_n):\n",
    "        similar_items_indexes = items\n",
    "        similarity_n = item_similarity[i,similar_items_indexes]\n",
    "        matrix_n = train_matrix[:,similar_items_indexes]\n",
    "        rated_items = matrix_n.dot(similarity_n)/similarity_n.sum()\n",
    "        pred[:,i]  = rated_items\n",
    "    return pred\n"
   ]
  },
  {
   "cell_type": "code",
   "execution_count": 28,
   "metadata": {},
   "outputs": [
    {
     "name": "stdout",
     "output_type": "stream",
     "text": [
      "similar_n shape:  (100, 100)\n",
      "predictions shape  (28556, 100)\n"
     ]
    }
   ],
   "source": [
    "#Find predictions\n",
    "n_similar = 100\n",
    "predictions = predict_item_item(data,item_similarity,n_similar)\n",
    "print('predictions shape ',predictions.shape)\n",
    "np.save('item-item-predictions', predictions)"
   ]
  },
  {
   "cell_type": "code",
   "execution_count": 29,
   "metadata": {},
   "outputs": [
    {
     "name": "stdout",
     "output_type": "stream",
     "text": [
      "3.970462587174132\n"
     ]
    }
   ],
   "source": [
    "#Get test preds\n",
    "test_preds = get_test_preds(predictions,testset)\n",
    "#Find error in each predictions\n",
    "e = np.abs(np.subtract(test_preds, np.reshape(testset[:,2], [-1,1])))\n",
    "#Find average error\n",
    "tot = e.shape[0] * e.shape[1]\n",
    "print((e.sum().sum())/tot)"
   ]
  },
  {
   "cell_type": "code",
   "execution_count": 30,
   "metadata": {
    "collapsed": true
   },
   "outputs": [],
   "source": [
    "#Arrange joke from highest desirable to lowest desirable/user\n",
    "rated_joke_user = get_highest_lowest_joke(predictions)\n",
    "#Save user-user matrix with highest desirable to lowest desirable\n",
    "np.save(\"item-item-cf-sorted\", rated_joke_user)"
   ]
  },
  {
   "cell_type": "code",
   "execution_count": 33,
   "metadata": {},
   "outputs": [
    {
     "name": "stdout",
     "output_type": "stream",
     "text": [
      "There once was a man and a woman that both  got in  a terrible car wreck. Both of their vehicles  \n",
      "were completely destroyed, buy fortunately, no one  was   hurt.  In thankfulness, the woman said to the \n",
      "man, 'We are both okay, so we should celebrate. I have   a  bottle of wine in my car, let's open it.'         \n",
      "So the woman got the bottleout of the car, and  handed it to the man. The man took a really big drink, \n",
      "and handed the woman the bottle. The  woman  closed the bottle and put it down. The man  asked,  \n",
      "'Aren't you going to take a drink?' \n",
      "\n",
      "The woman cleverly replied, \n",
      "'No, I think I'll  just  wait for the cops to get here.'\n",
      "\n",
      "-------------------------------------\n",
      "Q: What's the difference between the government  and  the Mafia?\n",
      "\n",
      "A: One of them is organized.\n",
      "\n",
      "-------------------------------------\n",
      "On the first day of college, the Dean addressed the students,\n",
      "pointing out some of the rules:\n",
      "\n",
      "\"The female dormitory will be out-of-bounds for all male students\n",
      "and the male dormitory to the female students. Anybody caught breaking\n",
      "this rule will be finded $20 the first time.\" He continued, \"Anybody \n",
      "caught breaking this rule the second time will be fined $60. Being caught\n",
      "a third time will cost you a fine of $180. Are there any questions ?\"\n",
      "\n",
      "At this point, a male student in the crowd inquired:\n",
      "\"How much for a season pass ?\"\n",
      "\n",
      "-------------------------------------\n",
      "If pro- is the opposite of con- then congress must be the opposite\n",
      "of progress.\n",
      "\n",
      "-------------------------------------\n",
      "An Asian man goes into a New York CityBank to exchange 10,000 yen for\n",
      "American Currency.  The teller gives him $72.00.  The next month the\n",
      "Asian man goes into the same bank with 10,000 yen and receives $62.00.\n",
      "He asks, \"How come? Only $62.00?\" The teller says \"Fluctuations-\n",
      "Fluctuations!\"\n",
      "\n",
      "Whereupon the Asian man looks back at the teller and says \"Fluk you\n",
      "Amelicans too!\"\n",
      "\n",
      "-------------------------------------\n"
     ]
    }
   ],
   "source": [
    "#Display top n jokes\n",
    "UserID = 10\n",
    "n_jokes = 5\n",
    "display_top_n(UserID,rated_joke_user,joke_text,n_jokes)"
   ]
  },
  {
   "cell_type": "code",
   "execution_count": null,
   "metadata": {
    "collapsed": true
   },
   "outputs": [],
   "source": []
  },
  {
   "cell_type": "code",
   "execution_count": null,
   "metadata": {
    "collapsed": true
   },
   "outputs": [],
   "source": []
  },
  {
   "cell_type": "code",
   "execution_count": null,
   "metadata": {
    "collapsed": true
   },
   "outputs": [],
   "source": []
  },
  {
   "cell_type": "code",
   "execution_count": null,
   "metadata": {
    "collapsed": true
   },
   "outputs": [],
   "source": []
  },
  {
   "cell_type": "code",
   "execution_count": null,
   "metadata": {
    "collapsed": true
   },
   "outputs": [],
   "source": []
  },
  {
   "cell_type": "code",
   "execution_count": null,
   "metadata": {
    "collapsed": true
   },
   "outputs": [],
   "source": []
  }
 ],
 "metadata": {
  "kernelspec": {
   "display_name": "Python 3",
   "language": "python",
   "name": "python3"
  },
  "language_info": {
   "codemirror_mode": {
    "name": "ipython",
    "version": 3
   },
   "file_extension": ".py",
   "mimetype": "text/x-python",
   "name": "python",
   "nbconvert_exporter": "python",
   "pygments_lexer": "ipython3",
   "version": "3.6.3"
  }
 },
 "nbformat": 4,
 "nbformat_minor": 2
}
