{
 "cells": [
  {
   "cell_type": "markdown",
   "metadata": {},
   "source": [
    "# Objective\n",
    "## 1. Build Recommendation system\n",
    "## 2. Add functionality to choose datasetsize\n",
    "## 3. Get predictions matrix for user\n",
    "## 4. Make Matrix where each row corresponds to user and columns to JokeID where each column from left to right tells you the Joke ID( Leftmost is the most desirable)"
   ]
  },
  {
   "cell_type": "code",
   "execution_count": 1,
   "metadata": {},
   "outputs": [
    {
     "name": "stderr",
     "output_type": "stream",
     "text": [
      "/home/atharvachalke/anaconda3/lib/python3.6/site-packages/h5py/__init__.py:34: FutureWarning: Conversion of the second argument of issubdtype from `float` to `np.floating` is deprecated. In future, it will be treated as `np.float64 == np.dtype(float).type`.\n",
      "  from ._conv import register_converters as _register_converters\n",
      "Using TensorFlow backend.\n"
     ]
    }
   ],
   "source": [
    "#import libraries\n",
    "import numpy as np\n",
    "import pandas as pd \n",
    "import keras as k\n",
    "import tensorflow as tf \n",
    "import numba\n",
    "from numba import jit\n",
    "from datetime import datetime\n",
    "import time \n",
    "import matplotlib.pyplot as plt \n",
    "import sklearn\n",
    "from sklearn.model_selection import train_test_split\n",
    "from keras.layers import Embedding, Reshape, merge\n",
    "from keras.models import Sequential\n",
    "from IPython.display import SVG\n",
    "from keras.optimizers import Adam\n",
    "from keras.utils.vis_utils import model_to_dot\n",
    "from sklearn.preprocessing import normalize\n",
    "import keras\n",
    "import math"
   ]
  },
  {
   "cell_type": "code",
   "execution_count": 3,
   "metadata": {
    "collapsed": true
   },
   "outputs": [],
   "source": [
    "#Name Jokes\n",
    "col = np.linspace(0,100,101)"
   ]
  },
  {
   "cell_type": "markdown",
   "metadata": {},
   "source": [
    "# Load dataset and clean it up so it can be used in the neural network for training and validation"
   ]
  },
  {
   "cell_type": "code",
   "execution_count": 3,
   "metadata": {
    "collapsed": true
   },
   "outputs": [],
   "source": [
    "#load data\n",
    "df1 = pd.read_excel('jester-data-1.xls', names=col)\n",
    "df2 = pd.read_excel('jester-data-2.xls', names = col)\n",
    "df3 = pd.read_excel('jester-data-3.xls', names = col)"
   ]
  },
  {
   "cell_type": "code",
   "execution_count": 4,
   "metadata": {},
   "outputs": [
    {
     "data": {
      "text/html": [
       "<div>\n",
       "<style scoped>\n",
       "    .dataframe tbody tr th:only-of-type {\n",
       "        vertical-align: middle;\n",
       "    }\n",
       "\n",
       "    .dataframe tbody tr th {\n",
       "        vertical-align: top;\n",
       "    }\n",
       "\n",
       "    .dataframe thead th {\n",
       "        text-align: right;\n",
       "    }\n",
       "</style>\n",
       "<table border=\"1\" class=\"dataframe\">\n",
       "  <thead>\n",
       "    <tr style=\"text-align: right;\">\n",
       "      <th></th>\n",
       "      <th>0.0</th>\n",
       "      <th>1.0</th>\n",
       "      <th>2.0</th>\n",
       "      <th>3.0</th>\n",
       "      <th>4.0</th>\n",
       "      <th>5.0</th>\n",
       "      <th>6.0</th>\n",
       "      <th>7.0</th>\n",
       "      <th>8.0</th>\n",
       "      <th>9.0</th>\n",
       "      <th>...</th>\n",
       "      <th>91.0</th>\n",
       "      <th>92.0</th>\n",
       "      <th>93.0</th>\n",
       "      <th>94.0</th>\n",
       "      <th>95.0</th>\n",
       "      <th>96.0</th>\n",
       "      <th>97.0</th>\n",
       "      <th>98.0</th>\n",
       "      <th>99.0</th>\n",
       "      <th>100.0</th>\n",
       "    </tr>\n",
       "  </thead>\n",
       "  <tbody>\n",
       "    <tr>\n",
       "      <th>0</th>\n",
       "      <td>100</td>\n",
       "      <td>4.08</td>\n",
       "      <td>-0.29</td>\n",
       "      <td>6.36</td>\n",
       "      <td>4.37</td>\n",
       "      <td>-2.38</td>\n",
       "      <td>-9.66</td>\n",
       "      <td>-0.73</td>\n",
       "      <td>-5.34</td>\n",
       "      <td>8.88</td>\n",
       "      <td>...</td>\n",
       "      <td>2.82</td>\n",
       "      <td>-4.95</td>\n",
       "      <td>-0.29</td>\n",
       "      <td>7.86</td>\n",
       "      <td>-0.19</td>\n",
       "      <td>-2.14</td>\n",
       "      <td>3.06</td>\n",
       "      <td>0.34</td>\n",
       "      <td>-4.32</td>\n",
       "      <td>1.07</td>\n",
       "    </tr>\n",
       "    <tr>\n",
       "      <th>1</th>\n",
       "      <td>49</td>\n",
       "      <td>99.00</td>\n",
       "      <td>99.00</td>\n",
       "      <td>99.00</td>\n",
       "      <td>99.00</td>\n",
       "      <td>9.03</td>\n",
       "      <td>9.27</td>\n",
       "      <td>9.03</td>\n",
       "      <td>9.27</td>\n",
       "      <td>99.00</td>\n",
       "      <td>...</td>\n",
       "      <td>99.00</td>\n",
       "      <td>99.00</td>\n",
       "      <td>99.00</td>\n",
       "      <td>9.08</td>\n",
       "      <td>99.00</td>\n",
       "      <td>99.00</td>\n",
       "      <td>99.00</td>\n",
       "      <td>99.00</td>\n",
       "      <td>99.00</td>\n",
       "      <td>99.00</td>\n",
       "    </tr>\n",
       "    <tr>\n",
       "      <th>2</th>\n",
       "      <td>48</td>\n",
       "      <td>99.00</td>\n",
       "      <td>8.35</td>\n",
       "      <td>99.00</td>\n",
       "      <td>99.00</td>\n",
       "      <td>1.80</td>\n",
       "      <td>8.16</td>\n",
       "      <td>-2.82</td>\n",
       "      <td>6.21</td>\n",
       "      <td>99.00</td>\n",
       "      <td>...</td>\n",
       "      <td>99.00</td>\n",
       "      <td>99.00</td>\n",
       "      <td>99.00</td>\n",
       "      <td>0.53</td>\n",
       "      <td>99.00</td>\n",
       "      <td>99.00</td>\n",
       "      <td>99.00</td>\n",
       "      <td>99.00</td>\n",
       "      <td>99.00</td>\n",
       "      <td>99.00</td>\n",
       "    </tr>\n",
       "    <tr>\n",
       "      <th>3</th>\n",
       "      <td>91</td>\n",
       "      <td>8.50</td>\n",
       "      <td>4.61</td>\n",
       "      <td>-4.17</td>\n",
       "      <td>-5.39</td>\n",
       "      <td>1.36</td>\n",
       "      <td>1.60</td>\n",
       "      <td>7.04</td>\n",
       "      <td>4.61</td>\n",
       "      <td>-0.44</td>\n",
       "      <td>...</td>\n",
       "      <td>5.19</td>\n",
       "      <td>5.58</td>\n",
       "      <td>4.27</td>\n",
       "      <td>5.19</td>\n",
       "      <td>5.73</td>\n",
       "      <td>1.55</td>\n",
       "      <td>3.11</td>\n",
       "      <td>6.55</td>\n",
       "      <td>1.80</td>\n",
       "      <td>1.60</td>\n",
       "    </tr>\n",
       "    <tr>\n",
       "      <th>4</th>\n",
       "      <td>100</td>\n",
       "      <td>-6.17</td>\n",
       "      <td>-3.54</td>\n",
       "      <td>0.44</td>\n",
       "      <td>-8.50</td>\n",
       "      <td>-7.09</td>\n",
       "      <td>-4.32</td>\n",
       "      <td>-8.69</td>\n",
       "      <td>-0.87</td>\n",
       "      <td>-6.65</td>\n",
       "      <td>...</td>\n",
       "      <td>-3.54</td>\n",
       "      <td>-6.89</td>\n",
       "      <td>-0.68</td>\n",
       "      <td>-2.96</td>\n",
       "      <td>-2.18</td>\n",
       "      <td>-3.35</td>\n",
       "      <td>0.05</td>\n",
       "      <td>-9.08</td>\n",
       "      <td>-5.05</td>\n",
       "      <td>-3.45</td>\n",
       "    </tr>\n",
       "  </tbody>\n",
       "</table>\n",
       "<p>5 rows × 101 columns</p>\n",
       "</div>"
      ],
      "text/plain": [
       "   0.0    1.0    2.0    3.0    4.0    5.0    6.0    7.0    8.0    9.0    \\\n",
       "0    100   4.08  -0.29   6.36   4.37  -2.38  -9.66  -0.73  -5.34   8.88   \n",
       "1     49  99.00  99.00  99.00  99.00   9.03   9.27   9.03   9.27  99.00   \n",
       "2     48  99.00   8.35  99.00  99.00   1.80   8.16  -2.82   6.21  99.00   \n",
       "3     91   8.50   4.61  -4.17  -5.39   1.36   1.60   7.04   4.61  -0.44   \n",
       "4    100  -6.17  -3.54   0.44  -8.50  -7.09  -4.32  -8.69  -0.87  -6.65   \n",
       "\n",
       "   ...    91.0   92.0   93.0   94.0   95.0   96.0   97.0   98.0   99.0   100.0  \n",
       "0  ...     2.82  -4.95  -0.29   7.86  -0.19  -2.14   3.06   0.34  -4.32   1.07  \n",
       "1  ...    99.00  99.00  99.00   9.08  99.00  99.00  99.00  99.00  99.00  99.00  \n",
       "2  ...    99.00  99.00  99.00   0.53  99.00  99.00  99.00  99.00  99.00  99.00  \n",
       "3  ...     5.19   5.58   4.27   5.19   5.73   1.55   3.11   6.55   1.80   1.60  \n",
       "4  ...    -3.54  -6.89  -0.68  -2.96  -2.18  -3.35   0.05  -9.08  -5.05  -3.45  \n",
       "\n",
       "[5 rows x 101 columns]"
      ]
     },
     "execution_count": 4,
     "metadata": {},
     "output_type": "execute_result"
    }
   ],
   "source": [
    "#Display some values \n",
    "df1.head()"
   ]
  },
  {
   "cell_type": "code",
   "execution_count": 5,
   "metadata": {
    "collapsed": true
   },
   "outputs": [],
   "source": [
    "#Drop axis with #of jokes since we don't need it\n",
    "df1 = df1.drop([0], axis=1)\n",
    "df2 = df2.drop([0], axis=1)\n",
    "df3 = df3.drop([0], axis=1)"
   ]
  },
  {
   "cell_type": "code",
   "execution_count": 73,
   "metadata": {
    "collapsed": true
   },
   "outputs": [],
   "source": [
    "#replace Nan Values and convert to numpy array\n",
    "df1 = df1.replace(99, np.nan)\n",
    "df2 = df2.replace(99, np.nan)\n",
    "df3 = df3.replace(99,np.nan)\n",
    "\n",
    "jokes = np.reshape(np.linspace(1,100,100) , [100,1])\n",
    "np1= np.concatenate((jokes,np.transpose(df1.values)), axis =1)\n",
    "np2 = np.concatenate((jokes,np.transpose(df2.values)), axis =1)\n",
    "np3 = np.concatenate((jokes,np.transpose(df3.values)), axis =1)\n"
   ]
  },
  {
   "cell_type": "code",
   "execution_count": 74,
   "metadata": {
    "collapsed": true
   },
   "outputs": [],
   "source": [
    "#This functions converts matrix to a m rows and 3 column format. Col1 is UserID Col2 is JokeID and Col3 is the rating\n",
    "#Uncomment @jit here and in the future if you aren't using numba library to do fast computation. (NEEDS CERTAIN LIBRARIES)\n",
    "#@jit\n",
    "def prepare_data(matrix_data):\n",
    "    m = matrix_data.shape[0]  # Get number of Jokes\n",
    "    n = matrix_data.shape[1]  # Get number of Users\n",
    "    jokeids = np.reshape(matrix_data[:,0],[m,1])  # Get joke id in column format\n",
    "    ones = np.ones((m,1))    #Initialize Ones ( Will be used later)\n",
    "    data = np.ones((1,3))  # Initialize a temporary matrix\n",
    "    for i in range(1,n):  # Loop through users\n",
    "        user = i * ones  # Get user column\n",
    "        ratings = np.reshape(matrix_data[:,i] , [m,1])  #Get ratings for the user\n",
    "        temp = np.concatenate((user, jokeids,ratings), axis =1)   # Concatenate User, Jokeid and Ratings\n",
    "        data = np.concatenate((data,temp))  # Append to data matrix\n",
    "    data = np.delete(data,0,0)   # Remove first row of ones\n",
    "   \n",
    "    return data"
   ]
  },
  {
   "cell_type": "code",
   "execution_count": 75,
   "metadata": {},
   "outputs": [
    {
     "name": "stdout",
     "output_type": "stream",
     "text": [
      "Execution time is  237.21951270103455\n",
      "Execution time is  340.3679096698761\n",
      "Execution time is  372.3896691799164\n"
     ]
    }
   ],
   "source": [
    "#Prepare data for neural network\n",
    "startTime = time.time()\n",
    "data_new1 = prepare_data(np1)\n",
    "print(\"Execution time is \", time.time()-startTime)\n",
    "\n",
    "startTime = time.time()\n",
    "data_new2 = prepare_data(np2)\n",
    "print(\"Execution time is \", time.time()-startTime)\n",
    "\n",
    "startTime = time.time()\n",
    "data_new3 = prepare_data(np3)\n",
    "print(\"Execution time is \", time.time()-startTime)"
   ]
  },
  {
   "cell_type": "code",
   "execution_count": 93,
   "metadata": {
    "collapsed": true
   },
   "outputs": [],
   "source": [
    "#Change user index to make it compatible to be used in the same data-set\n",
    "cp1 = data_new1.copy()\n",
    "max_u_l1 = data_new1[:,0].max()\n",
    "cp2 = data_new2.copy()\n",
    "cp2[:,0] = cp2[:,0]+max_u_l1\n",
    "max_u_l2 = cp2[:,0].max()\n",
    "cp3 = data_new3.copy()\n",
    "cp3[:,0] = cp3[:,0]+max_u_l2"
   ]
  },
  {
   "cell_type": "code",
   "execution_count": 104,
   "metadata": {},
   "outputs": [
    {
     "name": "stdout",
     "output_type": "stream",
     "text": [
      "(7341800, 3)\n"
     ]
    }
   ],
   "source": [
    "#Concat and save\n",
    "full_data_nn = np.concatenate((cp1,cp2,cp3), axis=0)\n",
    "print(full_data_nn.shape)\n",
    "#np.save('fulldata_nn', full_data_nn)"
   ]
  },
  {
   "cell_type": "markdown",
   "metadata": {},
   "source": [
    "## 1. Choose data-set size, and take 10% of the new data-set as validation set\n",
    "## 2. Make neural network\n",
    "## 3. Train and validate on Neural Network\n",
    "## 4. Make MSE and MAE plots\n"
   ]
  },
  {
   "cell_type": "code",
   "execution_count": 2,
   "metadata": {
    "collapsed": true
   },
   "outputs": [],
   "source": [
    "#load dataset and remove NAN values for training and validation\n",
    "full_data_nn = np.load('fulldata_nn.npy')\n",
    "full_data_nn = full_data_nn[~np.isnan(full_data_nn).any(axis=1)]"
   ]
  },
  {
   "cell_type": "code",
   "execution_count": 3,
   "metadata": {},
   "outputs": [
    {
     "name": "stdout",
     "output_type": "stream",
     "text": [
      "(3308968, 3)\n"
     ]
    }
   ],
   "source": [
    "#Select dataset-size and perform training and testing with that\n",
    "m = full_data_nn.shape[0]\n",
    "d_size = 0.8  #Dataset size is selected here\n",
    "indx = math.floor(m*d_size)\n",
    "full_data_nn = full_data_nn[0:indx,:]\n",
    "print(full_data_nn.shape)"
   ]
  },
  {
   "cell_type": "code",
   "execution_count": 4,
   "metadata": {
    "collapsed": true
   },
   "outputs": [],
   "source": [
    "#Initialize matrix and use it as the truncated dataset \n",
    "temp = np.copy(full_data_nn)"
   ]
  },
  {
   "cell_type": "code",
   "execution_count": 5,
   "metadata": {
    "collapsed": true
   },
   "outputs": [],
   "source": [
    "np.random.shuffle(temp)    # Shuffle data"
   ]
  },
  {
   "cell_type": "code",
   "execution_count": 6,
   "metadata": {
    "collapsed": true
   },
   "outputs": [],
   "source": [
    "#split into train test data\n",
    "val_size = 0.1 #Define validation set size\n",
    "X = temp[:,0:2]   #Get user and joke id\n",
    "Y = temp[:,2]   # Get Ratings\n",
    "m1 = Y.shape[0]\n",
    "Y = np.reshape(Y , [-1,1])\n",
    "Y = np.reshape(Y,[m1,1])\n",
    "X_train, X_test, Y_train, Y_test = train_test_split(X,Y, test_size = val_size, shuffle = True)    #Split Data\n",
    "Users = X_train[:,0]\n",
    "Jokes = X_train[:,1]"
   ]
  },
  {
   "cell_type": "code",
   "execution_count": 7,
   "metadata": {
    "collapsed": true
   },
   "outputs": [],
   "source": [
    "#Define Keras Model\n",
    "def build_model(n_users,k_factors,m_items):\n",
    "    Joke_input = keras.layers.Input(shape=[1],name='Item')\n",
    "    Joke_embedding = keras.layers.Embedding(m_items + 1, k_factors, name='Joke-Embedding')(Joke_input)\n",
    "    Joke_vec = keras.layers.Flatten(name='FlattenJokes')(Joke_embedding)\n",
    "    \n",
    "    user_input = keras.layers.Input(shape=[1],name='User')\n",
    "    user_vec = keras.layers.Flatten(name='FlattenUsers')(keras.layers.Embedding(n_users + 1, k_factors,name='User-Embedding')(user_input))\n",
    "   \n",
    "    prod = keras.layers.Dot(axes=1)([Joke_vec,user_vec])\n",
    "    l1 = keras.layers.Dense(activation='sigmoid',units= 20)(prod)\n",
    "    l2 = keras.layers.Dense(activation='relu',units = 30)(l1)\n",
    "    l3 = keras.layers.Dense(activation='linear',units=1)(l1)\n",
    "    model = keras.Model([user_input, Joke_input], l3)\n",
    "    adam = k.optimizers.adamax(lr=0.01)\n",
    "    model.compile(adam, 'mean_squared_error', metrics=['mae'])\n",
    "    model.summary()\n",
    "    \n",
    "   \n",
    "    return model"
   ]
  },
  {
   "cell_type": "code",
   "execution_count": 8,
   "metadata": {},
   "outputs": [
    {
     "name": "stdout",
     "output_type": "stream",
     "text": [
      "__________________________________________________________________________________________________\n",
      "Layer (type)                    Output Shape         Param #     Connected to                     \n",
      "==================================================================================================\n",
      "Item (InputLayer)               (None, 1)            0                                            \n",
      "__________________________________________________________________________________________________\n",
      "User (InputLayer)               (None, 1)            0                                            \n",
      "__________________________________________________________________________________________________\n",
      "Joke-Embedding (Embedding)      (None, 1, 1000)      101000      Item[0][0]                       \n",
      "__________________________________________________________________________________________________\n",
      "User-Embedding (Embedding)      (None, 1, 1000)      45592000    User[0][0]                       \n",
      "__________________________________________________________________________________________________\n",
      "FlattenJokes (Flatten)          (None, 1000)         0           Joke-Embedding[0][0]             \n",
      "__________________________________________________________________________________________________\n",
      "FlattenUsers (Flatten)          (None, 1000)         0           User-Embedding[0][0]             \n",
      "__________________________________________________________________________________________________\n",
      "dot_1 (Dot)                     (None, 1)            0           FlattenJokes[0][0]               \n",
      "                                                                 FlattenUsers[0][0]               \n",
      "__________________________________________________________________________________________________\n",
      "dense_1 (Dense)                 (None, 20)           40          dot_1[0][0]                      \n",
      "__________________________________________________________________________________________________\n",
      "dense_3 (Dense)                 (None, 1)            21          dense_1[0][0]                    \n",
      "==================================================================================================\n",
      "Total params: 45,693,061\n",
      "Trainable params: 45,693,061\n",
      "Non-trainable params: 0\n",
      "__________________________________________________________________________________________________\n",
      "Number of unique jokes is  100\n",
      "Number of unique Users is  45591\n",
      "(2978071, 1)\n"
     ]
    }
   ],
   "source": [
    "latent_features = 1000\n",
    "m = Users.shape[0]\n",
    "Users = np.reshape(Users, [m,1])\n",
    "Jokes = np.reshape(Jokes,[m,1])\n",
    "n_users = (np.unique(Users)).shape[0]\n",
    "n_jokes = (np.unique(Jokes)).shape[0]\n",
    "model = build_model(n_users,latent_features,n_jokes)\n",
    "print(\"Number of unique jokes is \",n_jokes)\n",
    "print(\"Number of unique Users is \",n_users)\n",
    "print(Users.shape)"
   ]
  },
  {
   "cell_type": "code",
   "execution_count": 9,
   "metadata": {},
   "outputs": [
    {
     "name": "stdout",
     "output_type": "stream",
     "text": [
      "Train on 2978071 samples, validate on 330897 samples\n",
      "Epoch 1/30\n",
      "2978071/2978071 [==============================] - 24s 8us/step - loss: 26.3346 - mean_absolute_error: 4.3018 - val_loss: 21.0591 - val_mean_absolute_error: 3.7909\n",
      "Epoch 2/30\n",
      "2978071/2978071 [==============================] - 6s 2us/step - loss: 18.1788 - mean_absolute_error: 3.4526 - val_loss: 17.8091 - val_mean_absolute_error: 3.3900oss: 1\n",
      "Epoch 3/30\n",
      "2978071/2978071 [==============================] - 6s 2us/step - loss: 13.5150 - mean_absolute_error: 2.8997 - val_loss: 16.7447 - val_mean_absolute_error: 3.2208\n",
      "Epoch 4/30\n",
      "2978071/2978071 [==============================] - 6s 2us/step - loss: 7.2359 - mean_absolute_error: 2.0526 - val_loss: 17.0287 - val_mean_absolute_error: 3.2119\n",
      "Epoch 5/30\n",
      "2978071/2978071 [==============================] - 6s 2us/step - loss: 3.0151 - mean_absolute_error: 1.3210 - val_loss: 16.9844 - val_mean_absolute_error: 3.1934\n",
      "Epoch 6/30\n",
      "2978071/2978071 [==============================] - 6s 2us/step - loss: 1.5730 - mean_absolute_error: 0.9277 - val_loss: 17.0044 - val_mean_absolute_error: 3.1845\n",
      "Epoch 7/30\n",
      "2978071/2978071 [==============================] - 6s 2us/step - loss: 0.9820 - mean_absolute_error: 0.7053 - val_loss: 16.9556 - val_mean_absolute_error: 3.1691\n",
      "Epoch 8/30\n",
      "2978071/2978071 [==============================] - 6s 2us/step - loss: 0.6909 - mean_absolute_error: 0.5714 - val_loss: 16.9832 - val_mean_absolute_error: 3.1683\n",
      "Epoch 9/30\n",
      "2978071/2978071 [==============================] - 6s 2us/step - loss: 0.5616 - mean_absolute_error: 0.4965 - val_loss: 16.9285 - val_mean_absolute_error: 3.1613\n",
      "Epoch 10/30\n",
      "2978071/2978071 [==============================] - 6s 2us/step - loss: 0.4647 - mean_absolute_error: 0.4385 - val_loss: 16.9236 - val_mean_absolute_error: 3.1598\n",
      "Epoch 11/30\n",
      "2978071/2978071 [==============================] - 6s 2us/step - loss: 0.4093 - mean_absolute_error: 0.4026 - val_loss: 16.8648 - val_mean_absolute_error: 3.1541\n",
      "Epoch 12/30\n",
      "2978071/2978071 [==============================] - 6s 2us/step - loss: 0.3570 - mean_absolute_error: 0.3685 - val_loss: 16.8533 - val_mean_absolute_error: 3.1531\n",
      "Epoch 13/30\n",
      "2978071/2978071 [==============================] - 6s 2us/step - loss: 0.3261 - mean_absolute_error: 0.3480 - val_loss: 16.8004 - val_mean_absolute_error: 3.1497\n",
      "Epoch 14/30\n",
      "2978071/2978071 [==============================] - 6s 2us/step - loss: 0.2962 - mean_absolute_error: 0.3273 - val_loss: 16.7865 - val_mean_absolute_error: 3.1481\n",
      "Epoch 15/30\n",
      "2978071/2978071 [==============================] - 6s 2us/step - loss: 0.2788 - mean_absolute_error: 0.3158 - val_loss: 16.7380 - val_mean_absolute_error: 3.1461\n",
      "Epoch 16/30\n",
      "2978071/2978071 [==============================] - 6s 2us/step - loss: 0.2617 - mean_absolute_error: 0.3040 - val_loss: 16.7213 - val_mean_absolute_error: 3.1449\n",
      "Epoch 17/30\n",
      "2978071/2978071 [==============================] - 6s 2us/step - loss: 0.2515 - mean_absolute_error: 0.2979 - val_loss: 16.6760 - val_mean_absolute_error: 3.1426\n",
      "Epoch 18/30\n",
      "2978071/2978071 [==============================] - 6s 2us/step - loss: 0.2405 - mean_absolute_error: 0.2908 - val_loss: 16.6584 - val_mean_absolute_error: 3.1420\n",
      "Epoch 19/30\n",
      "2978071/2978071 [==============================] - 6s 2us/step - loss: 0.2334 - mean_absolute_error: 0.2872 - val_loss: 16.6175 - val_mean_absolute_error: 3.1401\n",
      "Epoch 20/30\n",
      "2978071/2978071 [==============================] - 6s 2us/step - loss: 0.2247 - mean_absolute_error: 0.2821 - val_loss: 16.6022 - val_mean_absolute_error: 3.1399\n",
      "Epoch 21/30\n",
      "2978071/2978071 [==============================] - 6s 2us/step - loss: 0.2182 - mean_absolute_error: 0.2792 - val_loss: 16.5672 - val_mean_absolute_error: 3.1393\n",
      "Epoch 22/30\n",
      "2978071/2978071 [==============================] - 6s 2us/step - loss: 0.2109 - mean_absolute_error: 0.2757 - val_loss: 16.5482 - val_mean_absolute_error: 3.1392\n",
      "Epoch 23/30\n",
      "2978071/2978071 [==============================] - 6s 2us/step - loss: 0.2041 - mean_absolute_error: 0.2725 - val_loss: 16.5188 - val_mean_absolute_error: 3.1381\n",
      "Epoch 24/30\n",
      "2978071/2978071 [==============================] - 6s 2us/step - loss: 0.1956 - mean_absolute_error: 0.2679 - val_loss: 16.4978 - val_mean_absolute_error: 3.1377\n",
      "Epoch 25/30\n",
      "2978071/2978071 [==============================] - 6s 2us/step - loss: 0.1880 - mean_absolute_error: 0.2639 - val_loss: 16.4763 - val_mean_absolute_error: 3.1391\n",
      "Epoch 26/30\n",
      "2978071/2978071 [==============================] - 6s 2us/step - loss: 0.1802 - mean_absolute_error: 0.2598 - val_loss: 16.4591 - val_mean_absolute_error: 3.1387\n",
      "Epoch 27/30\n",
      "2978071/2978071 [==============================] - 6s 2us/step - loss: 0.1739 - mean_absolute_error: 0.2570 - val_loss: 16.4410 - val_mean_absolute_error: 3.1396\n",
      "Epoch 28/30\n",
      "2978071/2978071 [==============================] - 6s 2us/step - loss: 0.1676 - mean_absolute_error: 0.2538 - val_loss: 16.4234 - val_mean_absolute_error: 3.1400\n",
      "Restoring model weights from the end of the best epoch\n",
      "Epoch 00028: early stopping\n"
     ]
    }
   ],
   "source": [
    "#Fit data ( Train Model)\n",
    "n_epochs = 30\n",
    "batchsize = 50000\n",
    "es =keras.callbacks.EarlyStopping(monitor='val_mean_absolute_error', min_delta=0, patience=4,verbose=1, restore_best_weights=True)\n",
    "history = model.fit([Users, Jokes], Y_train, batch_size= batchsize, validation_data=([X_test[:,0],X_test[:,1]],Y_test),epochs=n_epochs,callbacks=[es])\n"
   ]
  },
  {
   "cell_type": "code",
   "execution_count": 10,
   "metadata": {
    "collapsed": true
   },
   "outputs": [],
   "source": [
    "model.save('Model-splitsize{}'.format(val_size))"
   ]
  },
  {
   "cell_type": "code",
   "execution_count": 11,
   "metadata": {},
   "outputs": [
    {
     "data": {
      "image/png": "[encoded data removed]",
      "text/plain": [
       "<matplotlib.figure.Figure at 0x7ff4ba5e6978>"
      ]
     },
     "metadata": {},
     "output_type": "display_data"
    }
   ],
   "source": [
    "# summarize history for loss\n",
    "plt.plot(history.history['loss'])\n",
    "plt.plot(history.history['val_loss'])\n",
    "plt.title('model loss')\n",
    "plt.ylabel('loss')\n",
    "plt.xlabel('epoch')\n",
    "plt.legend(['train', 'test'], loc='upper left')\n",
    "plt.show()\n"
   ]
  },
  {
   "cell_type": "code",
   "execution_count": 12,
   "metadata": {},
   "outputs": [
    {
     "data": {
      "image/png": "[encoded data removed]",
      "text/plain": [
       "<matplotlib.figure.Figure at 0x7ff4b2cd3198>"
      ]
     },
     "metadata": {},
     "output_type": "display_data"
    }
   ],
   "source": [
    "# summarize history for loss\n",
    "plt.plot(history.history['mean_absolute_error'])\n",
    "plt.plot(history.history['val_mean_absolute_error'])\n",
    "plt.title('model Mae')\n",
    "plt.ylabel('MAE')\n",
    "plt.xlabel('epoch')\n",
    "plt.legend(['train', 'test'], loc='upper left')\n",
    "plt.show()\n"
   ]
  },
  {
   "cell_type": "markdown",
   "metadata": {},
   "source": [
    "# 1. Make Predictions for all Unique JokeID and UserID pairings\n",
    "# 2. Sort all predictions based on Ratings to return a matrix where Rows correspond to user and columns to Ordering of JokeID, where the leftmost one is the most desirable by the user"
   ]
  },
  {
   "cell_type": "code",
   "execution_count": 12,
   "metadata": {},
   "outputs": [
    {
     "ename": "NameError",
     "evalue": "name 'np' is not defined",
     "output_type": "error",
     "traceback": [
      "\u001b[0;31m---------------------------------------------------------------------------\u001b[0m",
      "\u001b[0;31mNameError\u001b[0m                                 Traceback (most recent call last)",
      "\u001b[0;32m<ipython-input-12-40aa7485d93a>\u001b[0m in \u001b[0;36m<module>\u001b[0;34m()\u001b[0m\n\u001b[1;32m      1\u001b[0m \u001b[0;31m#Get unique users and Jokes\u001b[0m\u001b[0;34m\u001b[0m\u001b[0;34m\u001b[0m\u001b[0m\n\u001b[0;32m----> 2\u001b[0;31m \u001b[0mUsers\u001b[0m \u001b[0;34m=\u001b[0m \u001b[0mnp\u001b[0m\u001b[0;34m.\u001b[0m\u001b[0munique\u001b[0m\u001b[0;34m(\u001b[0m\u001b[0mX\u001b[0m\u001b[0;34m[\u001b[0m\u001b[0;34m:\u001b[0m\u001b[0;34m,\u001b[0m\u001b[0;36m0\u001b[0m\u001b[0;34m]\u001b[0m\u001b[0;34m)\u001b[0m\u001b[0;34m\u001b[0m\u001b[0m\n\u001b[0m\u001b[1;32m      3\u001b[0m \u001b[0mJokeID\u001b[0m \u001b[0;34m=\u001b[0m \u001b[0mnp\u001b[0m\u001b[0;34m.\u001b[0m\u001b[0mreshape\u001b[0m\u001b[0;34m(\u001b[0m\u001b[0mnp\u001b[0m\u001b[0;34m.\u001b[0m\u001b[0munique\u001b[0m\u001b[0;34m(\u001b[0m\u001b[0mX\u001b[0m\u001b[0;34m[\u001b[0m\u001b[0;34m:\u001b[0m\u001b[0;34m,\u001b[0m\u001b[0;36m1\u001b[0m\u001b[0;34m]\u001b[0m\u001b[0;34m)\u001b[0m\u001b[0;34m,\u001b[0m \u001b[0;34m[\u001b[0m\u001b[0;34m-\u001b[0m\u001b[0;36m1\u001b[0m\u001b[0;34m,\u001b[0m\u001b[0;36m1\u001b[0m\u001b[0;34m]\u001b[0m\u001b[0;34m)\u001b[0m\u001b[0;34m\u001b[0m\u001b[0m\n",
      "\u001b[0;31mNameError\u001b[0m: name 'np' is not defined"
     ]
    }
   ],
   "source": [
    "#Get unique users and Jokes\n",
    "Users = np.unique(X[:,0]) \n",
    "JokeID = np.reshape(np.unique(X[:,1]), [-1,1])"
   ]
  },
  {
   "cell_type": "code",
   "execution_count": 13,
   "metadata": {
    "collapsed": true
   },
   "outputs": [],
   "source": [
    "#Uncomment @jit here and in the future if you aren't using numba library to do fast computation. (NEEDS CERTAIN LIBRARIES)\n",
    "#@jit\n",
    "#Create prediction matrix for all possible values\n",
    "#@jit\n",
    "def create_pred_matrix(X1,X2):\n",
    "    m = X2.shape[0]  #Get number of unique jokes\n",
    "    initialized_matrix = np.ones((1,2))  #initialize a matrix to store user-joke pairing \n",
    "    startTime = time.time()\n",
    "    for idx,i in enumerate(X1):   #Iterate through users\n",
    "        user_id = np.ones((m,1))*i\n",
    "        if idx %5000 ==0:\n",
    "            print(\"Execution time is \", time.time()-startTime)\n",
    "            startTime = time.time()\n",
    "        appended_matrix = np.concatenate((user_id,X2), axis =1)\n",
    "        initialized_matrix = np.concatenate((initialized_matrix,appended_matrix))  \n",
    "    return initialized_matrix\n",
    "\n",
    "\n"
   ]
  },
  {
   "cell_type": "code",
   "execution_count": 14,
   "metadata": {
    "collapsed": true
   },
   "outputs": [],
   "source": [
    "mm = create_pred_matrix(Users,JokeID)\n"
   ]
  },
  {
   "cell_type": "code",
   "execution_count": 13,
   "metadata": {},
   "outputs": [],
   "source": [
    "#Get all combinations and find predicted ratings\n",
    "all_combinations = np.load('mm.npy')\n",
    "all_combinations = all_combinations[1:,:]"
   ]
  },
  {
   "cell_type": "code",
   "execution_count": 14,
   "metadata": {},
   "outputs": [],
   "source": [
    "#Get jokes and users\n",
    "users = np.reshape(all_combinations[:,0] , [-1,1])\n",
    "jokes = np.reshape(all_combinations[:,1] , [-1,1])"
   ]
  },
  {
   "cell_type": "code",
   "execution_count": 15,
   "metadata": {},
   "outputs": [],
   "source": [
    "#Get preds\n",
    "predictions = np.reshape(model.predict([users,jokes]) , [-1,1])"
   ]
  },
  {
   "cell_type": "code",
   "execution_count": 16,
   "metadata": {},
   "outputs": [],
   "source": [
    "all_preds = np.concatenate((users,jokes,predictions), axis=1)"
   ]
  },
  {
   "cell_type": "code",
   "execution_count": 17,
   "metadata": {
    "collapsed": true
   },
   "outputs": [],
   "source": [
    "#Return matrix with sorted ratings\n",
    "def get_top_ratings_user(userid,tot_preds):\n",
    "    user_vals = tot_preds[tot_preds[:,0]==userid]\n",
    "    user_vals=user_vals[user_vals[:,2].argsort(kind='mergesort')]\n",
    "    joke_id = user_vals[:,1]\n",
    "    return np.flip(joke_id)\n",
    "    "
   ]
  },
  {
   "cell_type": "code",
   "execution_count": 18,
   "metadata": {
    "collapsed": true
   },
   "outputs": [],
   "source": [
    "#Get Jokes from highest rating to lowest rating for user\n",
    "user = 1\n",
    "u_p = get_top_ratings_user(user,all_preds)"
   ]
  },
  {
   "cell_type": "code",
   "execution_count": 19,
   "metadata": {},
   "outputs": [
    {
     "data": {
      "text/plain": [
       "array([[4.8363056]], dtype=float32)"
      ]
     },
     "execution_count": 19,
     "metadata": {},
     "output_type": "execute_result"
    }
   ],
   "source": [
    "#To make manual predictions fill in UserID and JokeID to get rating\n",
    "userid = 1\n",
    "jokeid = 3\n",
    "model.predict([[userid],[jokeid]])"
   ]
  },
  {
   "cell_type": "code",
   "execution_count": 22,
   "metadata": {
    "collapsed": true
   },
   "outputs": [],
   "source": [
    "#Input unique users and all_preds\n",
    "#Returns matrix where each row corresponds to user and col values contact joke id ranked highest to lowest left to right\n",
    "def get_joke_user_matrix(users,tot_preds):\n",
    "    matrix_1 = np.ones((1,100))\n",
    "    startTime = time.time()\n",
    "    for idx,i in enumerate(users):\n",
    "        if idx %5000 ==0:\n",
    "            print(\"Execution time is \", time.time()-startTime)\n",
    "            startTime = time.time()\n",
    "        u_p = np.reshape(get_top_ratings_user(i,tot_preds) , [1,-1])\n",
    "        matrix_1 = np.concatenate((matrix_1,u_p))\n",
    "    return matrix_1\n",
    "        "
   ]
  },
  {
   "cell_type": "code",
   "execution_count": 23,
   "metadata": {},
   "outputs": [
    {
     "name": "stdout",
     "output_type": "stream",
     "text": [
      "Execution time is  7.152557373046875e-06\n",
      "Execution time is  128.1476628780365\n",
      "Execution time is  137.23221111297607\n",
      "Execution time is  143.36028695106506\n",
      "Execution time is  139.75454878807068\n",
      "Execution time is  141.73099303245544\n",
      "Execution time is  146.36877298355103\n",
      "Execution time is  155.34220457077026\n",
      "Execution time is  156.92802476882935\n",
      "Execution time is  215.36562180519104\n"
     ]
    }
   ],
   "source": [
    "#THIS MATRIX CONTAINS JOKE ORDERING FOR EACH USER WHERE THE LEFTMOST ONE IS THE MOST DESIRABLE ONE\n",
    "get_matrix = get_joke_user_matrix(np.unique(users),all_preds)\n",
    "get_matrix = get_matrix[1:,:]"
   ]
  },
  {
   "cell_type": "code",
   "execution_count": 26,
   "metadata": {},
   "outputs": [],
   "source": [
    "#Each row corresponds to user and each column to ordering of joke id\n",
    "get_matrix = get_matrix[1:,:]\n",
    "np.save('UserJokeRatings-splitsize{}'.format(val_size), get_matrix)"
   ]
  },
  {
   "cell_type": "code",
   "execution_count": 28,
   "metadata": {},
   "outputs": [
    {
     "data": {
      "text/plain": [
       "array([ 43.,  80.,  56.,   3.,  85.,  15.,  22.,   8.,  50.,  32.,  93.,\n",
       "        97.,  60.,  44.,  35.,  25.,  29.,  88.,  19.,  23.,  82.,  26.,\n",
       "        86.,  94.,  36.,  27.,  18., 100.,  62.,  10.,  21.,   2.,  55.,\n",
       "        91.,  95.,  17.,  96.,  31.,  77.,  46.,   6.,  87.,  74.,  63.,\n",
       "        90.,  73.,  99.,  13.,  72.,  34.,  11.,  39.,  59.,  64.,  54.,\n",
       "        83.,  28.,  75.,  89.,  12.,  65.,  69.,   1.,  53.,  51.,  84.,\n",
       "        81.,  45.,  33.,  61.,  37.,  76.,  92.,   9.,  30.,  78.,  40.,\n",
       "        70.,  20.,   5.,  47.,  52.,  24.,  42.,  49.,  38.,   4.,  14.,\n",
       "         7.,  41.,  16.,  68.,  98.,  57.,  67.,  71.,  58.,  66.,  79.,\n",
       "        48.])"
      ]
     },
     "execution_count": 28,
     "metadata": {},
     "output_type": "execute_result"
    }
   ],
   "source": [
    "#Get Users joke recommendation ordering based on userid\n",
    "Userid = 5\n",
    "get_matrix[Userid-1,:]"
   ]
  },
  {
   "cell_type": "code",
   "execution_count": 30,
   "metadata": {},
   "outputs": [],
   "source": [
    "#Load jokeTextDataset and display top n jokes for the user\n",
    "joke_text = pd.read_csv('JokeText.csv')"
   ]
  },
  {
   "cell_type": "code",
   "execution_count": 56,
   "metadata": {},
   "outputs": [],
   "source": [
    "# n_jokes has to be less than 100\n",
    "def display_top_n(Userid,user_joke_matrix,joke_text,n_jokes):\n",
    "    user_pref = user_joke_matrix[Userid-1,:]\n",
    "    jokes = user_pref[0:n_jokes]\n",
    "    jokes = jokes -1\n",
    "    for i in list(joke_text.iloc[jokes,:].JokeText):\n",
    "        print(i)\n",
    "        print(\"-------------------------------------\")\n"
   ]
  },
  {
   "cell_type": "code",
   "execution_count": 57,
   "metadata": {},
   "outputs": [
    {
     "name": "stdout",
     "output_type": "stream",
     "text": [
      "Arnold Swartzeneger and Sylvester Stallone are making a movie about\n",
      "the lives of the great composers.  \n",
      "Stallone says \"I want to be Mozart.\" \n",
      "Swartzeneger says: \"In that case...  I'll be Bach.\"\n",
      "\n",
      "-------------------------------------\n",
      "Hillary, Bill Clinton and the Pope are sitting together on an airplane.\n",
      "\n",
      "Bill says \"I could throw one thousand dollar bill out of this plane and\n",
      "make one person very happy.\"\n",
      "\n",
      "Hillary says \"I could throw 10 hundred dollar bills out of the plane and\n",
      "make 10 people very happy.\"\n",
      "\n",
      "The Pope chips in and says \"I could throw Bill out of the airplane and make the whole \n",
      "country happy.\"\n",
      "\n",
      "-------------------------------------\n",
      "A man and Cindy Crawford get stranded on a desert island.  After a couple\n",
      "of days they fall in love and start sleeping together.  Time pass the\n",
      "man seems frustrated, Cindy asks if there is anything she can do?  He\n",
      "says there is one thing, \"Could you put on this baseball cap and go to\n",
      "the other side of the island and answer me when I call you Bob?\"  She\n",
      "agrees.  Next day he is walking on the other side of the island, runs\n",
      "into her and says \"Hi Bob!\"  \n",
      "She says \"Hello, what's up?\"  \n",
      "He replies: \"Bob you won't believe it: I've been sleeping with Cindy\n",
      "Crawford for the past two weeks!!!!\"\n",
      "\n",
      "-------------------------------------\n",
      "Q. What's 200 feet long and has 4 teeth? \n",
      "\n",
      "A. The front row at a Willie Nelson Concert.\n",
      "\n",
      "-------------------------------------\n",
      "Q: How many Presidents does it take to screw in a light bulb?\n",
      "\n",
      "A: It depends upon your definition of screwing a light bulb.\n",
      "\n",
      "-------------------------------------\n"
     ]
    }
   ],
   "source": [
    "UserID = 5\n",
    "n_jokes = 5\n",
    "display_top_n(UserID,get_matrix,joke_text,n_jokes)"
   ]
  },
  {
   "cell_type": "code",
   "execution_count": null,
   "metadata": {},
   "outputs": [],
   "source": []
  },
  {
   "cell_type": "code",
   "execution_count": null,
   "metadata": {
    "collapsed": true
   },
   "outputs": [],
   "source": []
  }
 ],
 "metadata": {
  "kernelspec": {
   "display_name": "Python 3",
   "language": "python",
   "name": "python3"
  },
  "language_info": {
   "codemirror_mode": {
    "name": "ipython",
    "version": 3
   },
   "file_extension": ".py",
   "mimetype": "text/x-python",
   "name": "python",
   "nbconvert_exporter": "python",
   "pygments_lexer": "ipython3",
   "version": "3.6.3"
  }
 },
 "nbformat": 4,
 "nbformat_minor": 2
}
