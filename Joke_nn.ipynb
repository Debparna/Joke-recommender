{
 "cells": [
  {
   "cell_type": "code",
   "execution_count": 96,
   "metadata": {},
   "outputs": [],
   "source": [
    "import pandas as pd \n",
    "import matplotlib.pyplot as plt \n",
    "import numpy as np\n",
    "import keras as k\n",
    "import sklearn\n",
    "from sklearn.model_selection import train_test_split\n",
    "from keras.layers import Embedding, Reshape, merge\n",
    "from keras import backend\n",
    "\n",
    "from keras.models import Sequential\n",
    "import numba\n",
    "from numba import jit, cuda\n",
    "import keras\n",
    "from IPython.display import SVG\n",
    "from keras.optimizers import Adam\n",
    "from keras.utils.vis_utils import model_to_dot\n",
    "from sklearn.preprocessing import normalize\n",
    "\n"
   ]
  },
  {
   "cell_type": "code",
   "execution_count": 2,
   "metadata": {},
   "outputs": [],
   "source": [
    "#Load dataset\n",
    "df = pd.read_csv(\"UserRatings1.csv\")"
   ]
  },
  {
   "cell_type": "code",
   "execution_count": 3,
   "metadata": {},
   "outputs": [
    {
     "name": "stdout",
     "output_type": "stream",
     "text": [
      "2.2.4\n"
     ]
    }
   ],
   "source": [
    "df.head()\n",
    "print(k.__version__)\n"
   ]
  },
  {
   "cell_type": "code",
   "execution_count": 4,
   "metadata": {},
   "outputs": [
    {
     "name": "stdout",
     "output_type": "stream",
     "text": [
      "1.12.0\r\n"
     ]
    }
   ],
   "source": [
    "!python3 -c 'import tensorflow as tf; print(tf.__version__)'"
   ]
  },
  {
   "cell_type": "code",
   "execution_count": null,
   "metadata": {},
   "outputs": [],
   "source": []
  },
  {
   "cell_type": "code",
   "execution_count": 5,
   "metadata": {},
   "outputs": [],
   "source": [
    "df = df.values"
   ]
  },
  {
   "cell_type": "code",
   "execution_count": 6,
   "metadata": {},
   "outputs": [],
   "source": [
    "#Prepare data in JokeId, User, Rating format\n",
    "@jit\n",
    "def prepare_data(matrix_data):\n",
    "    m = matrix_data.shape[0]  # Get number of Jokes\n",
    "    n = matrix_data.shape[1]  # Get number of Users\n",
    "    jokeids = np.reshape(matrix_data[:,0],[m,1])  # Get joke id in column format\n",
    "    ones = np.ones((m,1))    #Initialize Ones ( Will be used later)\n",
    "    data = np.ones((1,3))  # Initialize a temporary matrix\n",
    "    for i in range(1,n):  # Loop through users\n",
    "        user = i * ones  # Get user column\n",
    "        ratings = np.reshape(matrix_data[:,i] , [m,1])  #Get ratings for the user\n",
    "        temp = np.concatenate((user, jokeids,ratings), axis =1)   # Concatenate User, Jokeid and Ratings\n",
    "        data = np.concatenate((data,temp))  # Append to data matrix\n",
    "    data = np.delete(data,0,0)   # Remove first row of ones\n",
    "    return data\n",
    "    \n",
    "        \n",
    "    \n",
    "    "
   ]
  },
  {
   "cell_type": "code",
   "execution_count": 7,
   "metadata": {},
   "outputs": [],
   "source": [
    "data = prepare_data(df)"
   ]
  },
  {
   "cell_type": "code",
   "execution_count": 6,
   "metadata": {},
   "outputs": [],
   "source": [
    "data = np.load('DATAROW.npy')\n",
    "temp = np.copy(data)"
   ]
  },
  {
   "cell_type": "code",
   "execution_count": 7,
   "metadata": {},
   "outputs": [],
   "source": [
    "temp = temp[~np.isnan(temp).any(axis=1)]  # Clean up data by removing rows with nan values"
   ]
  },
  {
   "cell_type": "code",
   "execution_count": 8,
   "metadata": {},
   "outputs": [],
   "source": [
    "np.random.shuffle(temp)    # Shuffle data\n"
   ]
  },
  {
   "cell_type": "code",
   "execution_count": 129,
   "metadata": {},
   "outputs": [
    {
     "name": "stdout",
     "output_type": "stream",
     "text": [
      "10.0\n",
      "-9.95\n",
      "0.7827385137894288\n",
      "0.9999999999999996\n"
     ]
    }
   ],
   "source": [
    "#split into train test data\n",
    "X = temp[:,0:2]   #Get user and joke id\n",
    "Y = temp[:,2]   # Get Ratings\n",
    "m1 = Y.shape[0]\n",
    "Y = np.reshape(Y , [-1,1])\n",
    "print(np.max(Y))\n",
    "print(np.min(Y))\n",
    "print(np.mean(Y))\n",
    "Y = normalize(Y,axis=0)\n",
    "Y = np.reshape(Y,[m1,1])\n",
    "X_train, X_test, Y_train, Y_test = train_test_split(X,Y, test_size = 0.1, shuffle = True)    #Split Data\n",
    "Users = X_train[:,0]\n",
    "Jokes = X_train[:,1]\n",
    "print(np.sum(np.power(Y,2)))"
   ]
  },
  {
   "cell_type": "code",
   "execution_count": 107,
   "metadata": {},
   "outputs": [],
   "source": [
    "#Define Keras Model\n",
    "def build_model(n_users,k_factors,m_items):\n",
    "    Joke_input = keras.layers.Input(shape=[1],name='Item')\n",
    "    Joke_embedding = keras.layers.Embedding(m_items + 1, k_factors, name='Joke-Embedding')(Joke_input)\n",
    "    Joke_vec = keras.layers.Flatten(name='FlattenJokes')(Joke_embedding)\n",
    "    \n",
    "    user_input = keras.layers.Input(shape=[1],name='User')\n",
    "    user_vec = keras.layers.Flatten(name='FlattenUsers')(keras.layers.Embedding(n_users + 1, k_factors,name='User-Embedding')(user_input))\n",
    "   \n",
    "    prod = keras.layers.Dot(axes=1)([Joke_vec,user_vec])\n",
    "    l1 = keras.layers.Dense(activation='sigmoid',units= 20)(prod)\n",
    "    l2 = keras.layers.Dense(activation='relu',units = 30)(l1)\n",
    "    l3 = keras.layers.Dense(activation='linear',units=1)(l2)\n",
    "    model = keras.Model([user_input, Joke_input], l3)\n",
    "    adam = k.optimizers.adamax(lr=0.01)\n",
    "    model.compile(adam, 'mean_squared_error', metrics=['accuracy'])\n",
    "    model.summary()\n",
    "    \n",
    "   \n",
    "    return model"
   ]
  },
  {
   "cell_type": "code",
   "execution_count": 108,
   "metadata": {},
   "outputs": [
    {
     "name": "stdout",
     "output_type": "stream",
     "text": [
      "36710\n",
      "100\n",
      "__________________________________________________________________________________________________\n",
      "Layer (type)                    Output Shape         Param #     Connected to                     \n",
      "==================================================================================================\n",
      "Item (InputLayer)               (None, 1)            0                                            \n",
      "__________________________________________________________________________________________________\n",
      "User (InputLayer)               (None, 1)            0                                            \n",
      "__________________________________________________________________________________________________\n",
      "Joke-Embedding (Embedding)      (None, 1, 140)       14140       Item[0][0]                       \n",
      "__________________________________________________________________________________________________\n",
      "User-Embedding (Embedding)      (None, 1, 140)       5139540     User[0][0]                       \n",
      "__________________________________________________________________________________________________\n",
      "FlattenJokes (Flatten)          (None, 140)          0           Joke-Embedding[0][0]             \n",
      "__________________________________________________________________________________________________\n",
      "FlattenUsers (Flatten)          (None, 140)          0           User-Embedding[0][0]             \n",
      "__________________________________________________________________________________________________\n",
      "dot_11 (Dot)                    (None, 1)            0           FlattenJokes[0][0]               \n",
      "                                                                 FlattenUsers[0][0]               \n",
      "__________________________________________________________________________________________________\n",
      "dense_26 (Dense)                (None, 20)           40          dot_11[0][0]                     \n",
      "__________________________________________________________________________________________________\n",
      "dense_27 (Dense)                (None, 30)           630         dense_26[0][0]                   \n",
      "__________________________________________________________________________________________________\n",
      "dense_28 (Dense)                (None, 1)            31          dense_27[0][0]                   \n",
      "==================================================================================================\n",
      "Total params: 5,154,381\n",
      "Trainable params: 5,154,381\n",
      "Non-trainable params: 0\n",
      "__________________________________________________________________________________________________\n"
     ]
    }
   ],
   "source": [
    "m = Users.shape[0]\n",
    "Users = np.reshape(Users, [m,1])\n",
    "Jokes = np.reshape(Jokes,[m,1])\n",
    "n_users = (np.unique(Users)).shape[0]\n",
    "print(n_users)\n",
    "n_jokes = (np.unique(Jokes)).shape[0]\n",
    "print(n_jokes)\n",
    "\n",
    "model = build_model(n_users,140,n_jokes)\n",
    "\n"
   ]
  },
  {
   "cell_type": "code",
   "execution_count": 109,
   "metadata": {},
   "outputs": [
    {
     "name": "stdout",
     "output_type": "stream",
     "text": [
      "Train on 2439792 samples, validate on 271089 samples\n",
      "Epoch 1/10\n",
      "2439792/2439792 [==============================] - 21s 9us/step - loss: 0.0011 - acc: 0.0031 - val_loss: 3.2545e-07 - val_acc: 0.0031\n",
      "Epoch 2/10\n",
      "2439792/2439792 [==============================] - 20s 8us/step - loss: 3.2482e-07 - acc: 0.0031 - val_loss: 3.2539e-07 - val_acc: 0.0031\n",
      "Epoch 3/10\n",
      "2439792/2439792 [==============================] - 21s 9us/step - loss: 3.2483e-07 - acc: 0.0031 - val_loss: 3.2548e-07 - val_acc: 0.0031\n",
      "Epoch 4/10\n",
      "2439792/2439792 [==============================] - 20s 8us/step - loss: 3.2486e-07 - acc: 0.0031 - val_loss: 3.2546e-07 - val_acc: 0.0031\n",
      "Epoch 5/10\n",
      "2439792/2439792 [==============================] - 20s 8us/step - loss: 3.2485e-07 - acc: 0.0031 - val_loss: 3.2538e-07 - val_acc: 0.0031\n",
      "Epoch 6/10\n",
      "2439792/2439792 [==============================] - 20s 8us/step - loss: 3.2488e-07 - acc: 0.0031 - val_loss: 3.2539e-07 - val_acc: 0.0031\n",
      "Epoch 7/10\n",
      "2439792/2439792 [==============================] - 20s 8us/step - loss: 3.2493e-07 - acc: 0.0031 - val_loss: 3.2540e-07 - val_acc: 0.0031\n",
      "Epoch 8/10\n",
      "2439792/2439792 [==============================] - 20s 8us/step - loss: 3.2500e-07 - acc: 0.0031 - val_loss: 3.2558e-07 - val_acc: 0.0031\n",
      "Epoch 9/10\n",
      "2439792/2439792 [==============================] - 21s 8us/step - loss: 3.2507e-07 - acc: 0.0031 - val_loss: 3.2543e-07 - val_acc: 0.0031\n",
      "Epoch 10/10\n",
      "2439792/2439792 [==============================] - 20s 8us/step - loss: 3.2522e-07 - acc: 0.0031 - val_loss: 3.2546e-07 - val_acc: 0.0031\n"
     ]
    }
   ],
   "source": [
    "\n",
    "history = model.fit([Users, Jokes], Y_train, batch_size= 7000, validation_split=0.1,epochs=10)\n"
   ]
  },
  {
   "cell_type": "code",
   "execution_count": 110,
   "metadata": {},
   "outputs": [
    {
     "data": {
      "image/png": "[encoded data removed]",
      "text/plain": [
       "<Figure size 432x288 with 1 Axes>"
      ]
     },
     "metadata": {
      "needs_background": "light"
     },
     "output_type": "display_data"
    }
   ],
   "source": [
    "plt.plot(history.history['acc'])\n",
    "plt.plot(history.history['val_acc'])\n",
    "plt.title('model accuracy')\n",
    "plt.ylabel('accuracy')\n",
    "plt.xlabel('epoch')\n",
    "plt.legend(['train', 'test'], loc='upper left')\n",
    "plt.show()\n"
   ]
  },
  {
   "cell_type": "code",
   "execution_count": 111,
   "metadata": {},
   "outputs": [
    {
     "data": {
      "image/png": "[encoded data removed]",
      "text/plain": [
       "<Figure size 432x288 with 1 Axes>"
      ]
     },
     "metadata": {
      "needs_background": "light"
     },
     "output_type": "display_data"
    }
   ],
   "source": [
    "# summarize history for loss\n",
    "plt.plot(history.history['loss'])\n",
    "plt.plot(history.history['val_loss'])\n",
    "plt.title('model loss')\n",
    "plt.ylabel('loss')\n",
    "plt.xlabel('epoch')\n",
    "plt.legend(['train', 'test'], loc='upper left')\n",
    "plt.show()\n"
   ]
  },
  {
   "cell_type": "code",
   "execution_count": 112,
   "metadata": {},
   "outputs": [],
   "source": [
    "model.save('Model_Joke.h5')"
   ]
  },
  {
   "cell_type": "code",
   "execution_count": 120,
   "metadata": {},
   "outputs": [
    {
     "data": {
      "text/plain": [
       "array([[9.2961825e-05]], dtype=float32)"
      ]
     },
     "execution_count": 120,
     "metadata": {},
     "output_type": "execute_result"
    }
   ],
   "source": [
    "i = 10001\n",
    "model.predict([Users[i],Jokes[i]])\n",
    "\n"
   ]
  },
  {
   "cell_type": "code",
   "execution_count": 121,
   "metadata": {},
   "outputs": [
    {
     "name": "stdout",
     "output_type": "stream",
     "text": [
      "[0.00091317]\n"
     ]
    }
   ],
   "source": [
    "print(Y[i])"
   ]
  },
  {
   "cell_type": "code",
   "execution_count": null,
   "metadata": {},
   "outputs": [],
   "source": []
  },
  {
   "cell_type": "code",
   "execution_count": null,
   "metadata": {},
   "outputs": [],
   "source": []
  },
  {
   "cell_type": "code",
   "execution_count": null,
   "metadata": {},
   "outputs": [],
   "source": []
  },
  {
   "cell_type": "code",
   "execution_count": null,
   "metadata": {},
   "outputs": [],
   "source": []
  },
  {
   "cell_type": "code",
   "execution_count": null,
   "metadata": {},
   "outputs": [],
   "source": []
  }
 ],
 "metadata": {
  "kernelspec": {
   "display_name": "Python 3",
   "language": "python",
   "name": "python3"
  },
  "language_info": {
   "codemirror_mode": {
    "name": "ipython",
    "version": 3
   },
   "file_extension": ".py",
   "mimetype": "text/x-python",
   "name": "python",
   "nbconvert_exporter": "python",
   "pygments_lexer": "ipython3",
   "version": "3.6.6"
  }
 },
 "nbformat": 4,
 "nbformat_minor": 2
}
